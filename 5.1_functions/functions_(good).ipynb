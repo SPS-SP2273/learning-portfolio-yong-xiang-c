{
 "cells": [
  {
   "attachments": {},
   "cell_type": "markdown",
   "id": "123456",
   "metadata": {},
   "source": [
    "<div style=\"text-align:left;font-size:2em\"><span style=\"font-weight:bolder;font-size:1.25em\">SP2273 | Learning Portfolio</span><br><br><span style=\"font-weight:bold;color:darkred\">Functions (Good)</span></div>"
   ]
  },
  {
   "attachments": {},
   "cell_type": "markdown",
   "id": "123456",
   "metadata": {},
   "source": [
    "# What to expect in this chapter"
   ]
  },
  {
   "attachments": {},
   "cell_type": "markdown",
   "id": "123456",
   "metadata": {},
   "source": [
    "# 1 Checks, balances, and contingencies"
   ]
  },
  {
   "attachments": {},
   "cell_type": "markdown",
   "id": "123456",
   "metadata": {},
   "source": [
    "## 1.1 assert"
   ]
  },
  {
   "cell_type": "code",
   "execution_count": 2,
   "id": "b2eb5469",
   "metadata": {},
   "outputs": [
    {
     "ename": "AssertionError",
     "evalue": "HAHAHA",
     "output_type": "error",
     "traceback": [
      "\u001b[31m---------------------------------------------------------------------------\u001b[39m",
      "\u001b[31mAssertionError\u001b[39m                            Traceback (most recent call last)",
      "\u001b[36mCell\u001b[39m\u001b[36m \u001b[39m\u001b[32mIn[2]\u001b[39m\u001b[32m, line 1\u001b[39m\n\u001b[32m----> \u001b[39m\u001b[32m1\u001b[39m \u001b[38;5;28;01massert\u001b[39;00m \u001b[32m1\u001b[39m > \u001b[32m2\u001b[39m, \u001b[33m\"\u001b[39m\u001b[33mHAHAHA\u001b[39m\u001b[33m\"\u001b[39m\n",
      "\u001b[31mAssertionError\u001b[39m: HAHAHA"
     ]
    }
   ],
   "source": [
    "assert 1 > 2, \"HAHAHA\""
   ]
  },
  {
   "cell_type": "code",
   "execution_count": 5,
   "id": "688cd01f",
   "metadata": {},
   "outputs": [
    {
     "ename": "AssertionError",
     "evalue": "Something wrong, got negative BMI of -20",
     "output_type": "error",
     "traceback": [
      "\u001b[31m---------------------------------------------------------------------------\u001b[39m",
      "\u001b[31mAssertionError\u001b[39m                            Traceback (most recent call last)",
      "\u001b[36mCell\u001b[39m\u001b[36m \u001b[39m\u001b[32mIn[5]\u001b[39m\u001b[32m, line 2\u001b[39m\n\u001b[32m      1\u001b[39m bmi = -\u001b[32m20\u001b[39m\n\u001b[32m----> \u001b[39m\u001b[32m2\u001b[39m \u001b[38;5;28;01massert\u001b[39;00m bmi > \u001b[32m0\u001b[39m, \u001b[33mf\u001b[39m\u001b[33m\"\u001b[39m\u001b[33mSomething wrong, got negative BMI of \u001b[39m\u001b[38;5;132;01m{\u001b[39;00mbmi\u001b[38;5;132;01m}\u001b[39;00m\u001b[33m\"\u001b[39m\n",
      "\u001b[31mAssertionError\u001b[39m: Something wrong, got negative BMI of -20"
     ]
    }
   ],
   "source": [
    "bmi = -20\n",
    "assert bmi > 0, f\"Something wrong, got negative BMI of {bmi}\""
   ]
  },
  {
   "cell_type": "markdown",
   "id": "62d60f8a",
   "metadata": {},
   "source": [
    "This is a good way to stop things from running, especially when certain constants cannot exceed certain values."
   ]
  },
  {
   "attachments": {},
   "cell_type": "markdown",
   "id": "123456",
   "metadata": {},
   "source": [
    "## 1.2 try-except"
   ]
  },
  {
   "cell_type": "code",
   "execution_count": 6,
   "id": "8a47d2e3",
   "metadata": {},
   "outputs": [
    {
     "name": "stdout",
     "output_type": "stream",
     "text": [
      "The square of 2 is 4!\n"
     ]
    }
   ],
   "source": [
    "number=input(\"Give me a number and I will calculate its square.\")\n",
    "square=int(number)**2              # Convert English to number\n",
    "print(f'The square of {number} is {square}!')"
   ]
  },
  {
   "cell_type": "code",
   "execution_count": 7,
   "id": "9dbee9fd",
   "metadata": {},
   "outputs": [
    {
     "ename": "AssertionError",
     "evalue": "Wrong type",
     "output_type": "error",
     "traceback": [
      "\u001b[31m---------------------------------------------------------------------------\u001b[39m",
      "\u001b[31mAssertionError\u001b[39m                            Traceback (most recent call last)",
      "\u001b[36mCell\u001b[39m\u001b[36m \u001b[39m\u001b[32mIn[7]\u001b[39m\u001b[32m, line 2\u001b[39m\n\u001b[32m      1\u001b[39m number=\u001b[38;5;28minput\u001b[39m(\u001b[33m\"\u001b[39m\u001b[33mGive me a number and I will calculate its square.\u001b[39m\u001b[33m\"\u001b[39m)\n\u001b[32m----> \u001b[39m\u001b[32m2\u001b[39m \u001b[38;5;28;01massert\u001b[39;00m \u001b[38;5;28mtype\u001b[39m(number) \u001b[38;5;129;01mis\u001b[39;00m \u001b[38;5;129;01mnot\u001b[39;00m \u001b[38;5;28mstr\u001b[39m, \u001b[33m\"\u001b[39m\u001b[33mWrong type\u001b[39m\u001b[33m\"\u001b[39m\n\u001b[32m      3\u001b[39m square=\u001b[38;5;28mint\u001b[39m(number)**\u001b[32m2\u001b[39m              \u001b[38;5;66;03m# Convert English to number\u001b[39;00m\n\u001b[32m      4\u001b[39m \u001b[38;5;28mprint\u001b[39m(\u001b[33mf\u001b[39m\u001b[33m'\u001b[39m\u001b[33mThe square of \u001b[39m\u001b[38;5;132;01m{\u001b[39;00mnumber\u001b[38;5;132;01m}\u001b[39;00m\u001b[33m is \u001b[39m\u001b[38;5;132;01m{\u001b[39;00msquare\u001b[38;5;132;01m}\u001b[39;00m\u001b[33m!\u001b[39m\u001b[33m'\u001b[39m)\n",
      "\u001b[31mAssertionError\u001b[39m: Wrong type"
     ]
    }
   ],
   "source": [
    "number=input(\"Give me a number and I will calculate its square.\")\n",
    "assert type(number) is not str, \"Wrong type\"\n",
    "square=int(number)**2              # Convert English to number\n",
    "print(f'The square of {number} is {square}!')"
   ]
  },
  {
   "cell_type": "code",
   "execution_count": 9,
   "id": "a9553f01",
   "metadata": {},
   "outputs": [
    {
     "name": "stdout",
     "output_type": "stream",
     "text": [
      "Oh oh! I cannot square HAHAH!\n"
     ]
    }
   ],
   "source": [
    "try:\n",
    "    number=input(\"Give me a number and I will calculate its square.\")\n",
    "    square=int(number)**2\n",
    "    print(f'The square of {number} is {square}!')\n",
    "except:\n",
    "    print(f\"Oh oh! I cannot square {number}!\")"
   ]
  },
  {
   "attachments": {},
   "cell_type": "markdown",
   "id": "123456",
   "metadata": {},
   "source": [
    "## 1.3 A simple suggestion"
   ]
  },
  {
   "attachments": {},
   "cell_type": "markdown",
   "id": "123456",
   "metadata": {},
   "source": [
    "# 2 Some loose ends"
   ]
  },
  {
   "cell_type": "code",
   "execution_count": 12,
   "id": "f5608298",
   "metadata": {},
   "outputs": [],
   "source": [
    "def side_by_side(a, b, c=42):\n",
    "    return f'{a=: 2d}|{b=: 2d}|{c=: 2d}'"
   ]
  },
  {
   "cell_type": "code",
   "execution_count": 13,
   "id": "58a372fa",
   "metadata": {},
   "outputs": [
    {
     "data": {
      "text/plain": [
       "'a= 1|b= 2|c= 3'"
      ]
     },
     "execution_count": 13,
     "metadata": {},
     "output_type": "execute_result"
    }
   ],
   "source": [
    "side_by_side(1,2,3)"
   ]
  },
  {
   "cell_type": "code",
   "execution_count": 14,
   "id": "9192b773",
   "metadata": {},
   "outputs": [
    {
     "data": {
      "text/plain": [
       "'a= 1|b= 2|c= 42'"
      ]
     },
     "execution_count": 14,
     "metadata": {},
     "output_type": "execute_result"
    }
   ],
   "source": [
    "side_by_side(1,2)"
   ]
  },
  {
   "cell_type": "code",
   "execution_count": 15,
   "id": "28d41e48",
   "metadata": {},
   "outputs": [
    {
     "data": {
      "text/plain": [
       "'a= 1|b= 2|c= 3'"
      ]
     },
     "execution_count": 15,
     "metadata": {},
     "output_type": "execute_result"
    }
   ],
   "source": [
    "side_by_side(1,2, 3)"
   ]
  },
  {
   "cell_type": "code",
   "execution_count": 16,
   "id": "d802adce",
   "metadata": {},
   "outputs": [
    {
     "data": {
      "text/plain": [
       "'a= 2|b= 4|c= 1'"
      ]
     },
     "execution_count": 16,
     "metadata": {},
     "output_type": "execute_result"
    }
   ],
   "source": [
    "side_by_side(c=1,b=4,a=2)"
   ]
  },
  {
   "cell_type": "code",
   "execution_count": 18,
   "id": "ffd3616e",
   "metadata": {},
   "outputs": [
    {
     "ename": "TypeError",
     "evalue": "side_by_side() missing 1 required positional argument: 'b'",
     "output_type": "error",
     "traceback": [
      "\u001b[31m---------------------------------------------------------------------------\u001b[39m",
      "\u001b[31mTypeError\u001b[39m                                 Traceback (most recent call last)",
      "\u001b[36mCell\u001b[39m\u001b[36m \u001b[39m\u001b[32mIn[18]\u001b[39m\u001b[32m, line 1\u001b[39m\n\u001b[32m----> \u001b[39m\u001b[32m1\u001b[39m \u001b[43mside_by_side\u001b[49m\u001b[43m(\u001b[49m\u001b[32;43m1\u001b[39;49m\u001b[43m,\u001b[49m\u001b[43mc\u001b[49m\u001b[43m=\u001b[49m\u001b[32;43m2\u001b[39;49m\u001b[43m)\u001b[49m      \u001b[38;5;66;03m# b is not defined in the original code.\u001b[39;00m\n",
      "\u001b[31mTypeError\u001b[39m: side_by_side() missing 1 required positional argument: 'b'"
     ]
    }
   ],
   "source": [
    "side_by_side(1,c=2)      # b is not defined in the original code."
   ]
  },
  {
   "cell_type": "code",
   "execution_count": 22,
   "id": "7798c04f",
   "metadata": {},
   "outputs": [],
   "source": [
    "def side_by_side(a, b, c=42):                # The docstring message can be typed between 3 single inverted commas.\n",
    "    '''                                                             \n",
    "    This is a simple function that prints three numbers.     \n",
    "    '''\n",
    "    return f'{a=: 2d}|{b=: 2d}|{c=: 2d}'"
   ]
  },
  {
   "cell_type": "code",
   "execution_count": 20,
   "id": "2aa41b7e",
   "metadata": {},
   "outputs": [
    {
     "name": "stdout",
     "output_type": "stream",
     "text": [
      "\u001b[31mSignature:\u001b[39m side_by_side(a, b, c=\u001b[32m42\u001b[39m)\n",
      "\u001b[31mDocstring:\u001b[39m This is a simple function that prints three numbers.\n",
      "\u001b[31mFile:\u001b[39m      c:\\users\\jean\\appdata\\local\\temp\\ipykernel_41636\\2748341321.py\n",
      "\u001b[31mType:\u001b[39m      function"
     ]
    }
   ],
   "source": [
    "?side_by_side"
   ]
  },
  {
   "attachments": {},
   "cell_type": "markdown",
   "id": "123456",
   "metadata": {},
   "source": [
    "## 2.1 Positional, keyword and default arguments"
   ]
  },
  {
   "attachments": {},
   "cell_type": "markdown",
   "id": "123456",
   "metadata": {},
   "source": [
    "## 2.2 Docstrings"
   ]
  },
  {
   "attachments": {},
   "cell_type": "markdown",
   "id": "123456",
   "metadata": {},
   "source": [
    "## 2.3 Function are first-class citizens"
   ]
  },
  {
   "cell_type": "code",
   "execution_count": 23,
   "id": "7b639a57",
   "metadata": {},
   "outputs": [],
   "source": [
    "import numpy as np"
   ]
  },
  {
   "cell_type": "code",
   "execution_count": 27,
   "id": "dc1326f4",
   "metadata": {},
   "outputs": [],
   "source": [
    "def my_function(angle, trig_func):\n",
    "    return trig_func(angle)"
   ]
  },
  {
   "cell_type": "code",
   "execution_count": 28,
   "id": "ea110475",
   "metadata": {},
   "outputs": [
    {
     "data": {
      "text/plain": [
       "np.float64(0.8939966636005579)"
      ]
     },
     "execution_count": 28,
     "metadata": {},
     "output_type": "execute_result"
    }
   ],
   "source": [
    "my_function(90, np.sin)"
   ]
  },
  {
   "cell_type": "code",
   "execution_count": 29,
   "id": "af8bc29e",
   "metadata": {},
   "outputs": [
    {
     "data": {
      "text/plain": [
       "np.float64(0.4459230474713877)"
      ]
     },
     "execution_count": 29,
     "metadata": {},
     "output_type": "execute_result"
    }
   ],
   "source": [
    "my_function(90, lambda x: np.cos(x) + np.sin(x))"
   ]
  },
  {
   "cell_type": "code",
   "execution_count": 30,
   "id": "eb6368b7",
   "metadata": {},
   "outputs": [],
   "source": [
    "def my_function(x, f):\n",
    "    return f(x)"
   ]
  },
  {
   "cell_type": "code",
   "execution_count": 32,
   "id": "7439ed3c",
   "metadata": {},
   "outputs": [
    {
     "data": {
      "text/plain": [
       "12"
      ]
     },
     "execution_count": 32,
     "metadata": {},
     "output_type": "execute_result"
    }
   ],
   "source": [
    "my_function(2, lambda x: x**2 + x**3)          # lambda - unnamed function (temp use of a function)"
   ]
  },
  {
   "attachments": {},
   "cell_type": "markdown",
   "id": "123456",
   "metadata": {},
   "source": [
    "## 2.4 More about unpacking"
   ]
  },
  {
   "cell_type": "code",
   "execution_count": 33,
   "id": "a1a59d58",
   "metadata": {},
   "outputs": [
    {
     "data": {
      "text/plain": [
       "(1, 2, 3)"
      ]
     },
     "execution_count": 33,
     "metadata": {},
     "output_type": "execute_result"
    }
   ],
   "source": [
    "x, y, z = [1, 2, 3]\n",
    "x, y, z"
   ]
  },
  {
   "cell_type": "code",
   "execution_count": 34,
   "id": "288473ce",
   "metadata": {},
   "outputs": [
    {
     "data": {
      "text/plain": [
       "3"
      ]
     },
     "execution_count": 34,
     "metadata": {},
     "output_type": "execute_result"
    }
   ],
   "source": [
    "x, y, z = [1, 2, 3]\n",
    "z"
   ]
  },
  {
   "cell_type": "code",
   "execution_count": 35,
   "id": "8f099595",
   "metadata": {},
   "outputs": [
    {
     "data": {
      "text/plain": [
       "3"
      ]
     },
     "execution_count": 35,
     "metadata": {},
     "output_type": "execute_result"
    }
   ],
   "source": [
    "x, _, z = [1, 2, 3]\n",
    "z"
   ]
  },
  {
   "cell_type": "code",
   "execution_count": 37,
   "id": "8b40122f",
   "metadata": {},
   "outputs": [
    {
     "data": {
      "text/plain": [
       "(np.int64(1), np.int64(7), np.int64(8))"
      ]
     },
     "execution_count": 37,
     "metadata": {},
     "output_type": "execute_result"
    }
   ],
   "source": [
    "x, *y, z, p = np.array([1, 2, 3, 4, 5, 6, 7, 8])\n",
    "x, z, p"
   ]
  }
 ],
 "metadata": {
  "kernelspec": {
   "display_name": "base",
   "language": "python",
   "name": "python3"
  },
  "language_info": {
   "codemirror_mode": {
    "name": "ipython",
    "version": 3
   },
   "file_extension": ".py",
   "mimetype": "text/x-python",
   "name": "python",
   "nbconvert_exporter": "python",
   "pygments_lexer": "ipython3",
   "version": "3.13.5"
  },
  "toc": {
   "base_numbering": 1,
   "nav_menu": {},
   "number_sections": true,
   "sideBar": true,
   "skip_h1_title": false,
   "title_cell": "Table of Contents",
   "title_sidebar": "Contents",
   "toc_cell": false,
   "toc_position": {},
   "toc_section_display": true,
   "toc_window_display": false
  }
 },
 "nbformat": 4,
 "nbformat_minor": 5
}
