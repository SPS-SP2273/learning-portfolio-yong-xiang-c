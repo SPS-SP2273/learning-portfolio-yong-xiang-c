{
 "cells": [
  {
   "attachments": {},
   "cell_type": "markdown",
   "id": "123456",
   "metadata": {},
   "source": [
    "<div style=\"text-align:left;font-size:2em\"><span style=\"font-weight:bolder;font-size:1.25em\">SP2273 | Learning Portfolio</span><br><br><span style=\"font-weight:bold;color:darkred\">Using Jupyter (Good)</span></div>"
   ]
  },
  {
   "attachments": {},
   "cell_type": "markdown",
   "id": "09d24b6d",
   "metadata": {},
   "source": [
    "# What to expect in this chapter"
   ]
  },
  {
   "attachments": {},
   "cell_type": "markdown",
   "id": "b6083efd",
   "metadata": {},
   "source": [
    "# 1 Some tips and tricks"
   ]
  },
  {
   "cell_type": "code",
   "execution_count": 2,
   "id": "e424ef7c-3428-4be8-bf6d-458797f48992",
   "metadata": {},
   "outputs": [
    {
     "data": {
      "text/plain": [
       "2"
      ]
     },
     "execution_count": 2,
     "metadata": {},
     "output_type": "execute_result"
    }
   ],
   "source": [
    "1+1"
   ]
  },
  {
   "cell_type": "code",
   "execution_count": 5,
   "id": "c73e457f-285f-4251-8603-5aad98d05512",
   "metadata": {},
   "outputs": [
    {
     "data": {
      "text/plain": [
       "True"
      ]
     },
     "execution_count": 5,
     "metadata": {},
     "output_type": "execute_result"
    }
   ],
   "source": [
    "1==1"
   ]
  },
  {
   "cell_type": "markdown",
   "id": "bcef62f0-48d8-47f2-9ba4-3a99d5534fde",
   "metadata": {},
   "source": [
    "**Hello...**"
   ]
  },
  {
   "attachments": {},
   "cell_type": "markdown",
   "id": "d9dfcc8c",
   "metadata": {},
   "source": [
    "## 1.1 Keyboard Shortcuts"
   ]
  },
  {
   "attachments": {},
   "cell_type": "markdown",
   "id": "278c36cd",
   "metadata": {},
   "source": [
    "### Things to note"
   ]
  },
  {
   "cell_type": "code",
   "execution_count": null,
   "id": "8fb0650e",
   "metadata": {},
   "outputs": [],
   "source": [
    "\n",
    "# Your code here\n"
   ]
  },
  {
   "attachments": {},
   "cell_type": "markdown",
   "id": "e25e98c9",
   "metadata": {},
   "source": [
    "## 1.2 Shell commands"
   ]
  },
  {
   "cell_type": "code",
   "execution_count": 4,
   "id": "2cc82af4-1ef1-45fe-b90b-edad7699ba8d",
   "metadata": {},
   "outputs": [
    {
     "name": "stdout",
     "output_type": "stream",
     "text": [
      "# packages in environment at C:\\ProgramData\\miniconda3:\n",
      "#\n",
      "# Name                           Version                Build                  Channel\n",
      "anaconda-anon-usage              0.7.1                  py313hfc23b7f_100\n",
      "anaconda_powershell_prompt       1.1.0                  haa95532_1\n",
      "anaconda_prompt                  1.1.0                  haa95532_1\n",
      "annotated-types                  0.6.0                  py313haa95532_0\n",
      "anyio                            4.10.0                 pyhe01879c_0           conda-forge\n",
      "archspec                         0.2.3                  pyhd3eb1b0_0\n",
      "argon2-cffi                      25.1.0                 pyhd8ed1ab_0           conda-forge\n",
      "argon2-cffi-bindings             25.1.0                 py313h5ea7bf4_0        conda-forge\n",
      "arrow                            1.3.0                  pyhd8ed1ab_1           conda-forge\n",
      "asttokens                        3.0.0                  pyhd8ed1ab_1           conda-forge\n",
      "async-lru                        2.0.5                  pyh29332c3_0           conda-forge\n",
      "attrs                            25.3.0                 pyh71513ae_0           conda-forge\n",
      "babel                            2.17.0                 pyhd8ed1ab_0           conda-forge\n",
      "beautifulsoup4                   4.13.4                 pyha770c72_0           conda-forge\n",
      "bleach                           6.2.0                  pyh29332c3_4           conda-forge\n",
      "bleach-with-css                  6.2.0                  h82add2a_4             conda-forge\n",
      "boltons                          25.0.0                 py313haa95532_0\n",
      "brotlicffi                       1.0.9.2                py313h5da7b33_1\n",
      "bzip2                            1.0.8                  h2bbff1b_6\n",
      "ca-certificates                  2025.8.3               h4c7d964_0             conda-forge\n",
      "cached-property                  1.5.2                  hd8ed1ab_1             conda-forge\n",
      "cached_property                  1.5.2                  pyha770c72_1           conda-forge\n",
      "certifi                          2025.8.3               py313haa95532_0\n",
      "cffi                             1.17.1                 py313h827c3e9_1\n",
      "charset-normalizer               3.3.2                  pyhd3eb1b0_0\n",
      "colorama                         0.4.6                  py313haa95532_0\n",
      "comm                             0.2.3                  pyhe01879c_0           conda-forge\n",
      "conda                            25.7.0                 py313haa95532_0\n",
      "conda-anaconda-telemetry         0.2.0                  py313haa95532_1\n",
      "conda-anaconda-tos               0.2.1                  py313haa95532_0\n",
      "conda-content-trust              0.2.0                  py313haa95532_1\n",
      "conda-libmamba-solver            25.4.0                 pyhd3eb1b0_0\n",
      "conda-package-handling           2.4.0                  py313haa95532_0\n",
      "conda-package-streaming          0.12.0                 py313haa95532_0\n",
      "cpp-expected                     1.1.0                  h214f63a_0\n",
      "cpython                          3.13.5                 py313hd8ed1ab_102      conda-forge\n",
      "cryptography                     45.0.3                 py313h51e0144_0\n",
      "debugpy                          1.8.16                 py313h927ade5_0        conda-forge\n",
      "decorator                        5.2.1                  pyhd8ed1ab_0           conda-forge\n",
      "defusedxml                       0.7.1                  pyhd8ed1ab_0           conda-forge\n",
      "distro                           1.9.0                  py313haa95532_0\n",
      "exceptiongroup                   1.3.0                  pyhd8ed1ab_0           conda-forge\n",
      "executing                        2.2.0                  pyhd8ed1ab_0           conda-forge\n",
      "expat                            2.7.1                  h8ddb27b_0\n",
      "fmt                              9.1.0                  h6d14046_1\n",
      "fqdn                             1.5.1                  pyhd8ed1ab_1           conda-forge\n",
      "frozendict                       2.4.2                  py313haa95532_0\n",
      "h11                              0.16.0                 pyhd8ed1ab_0           conda-forge\n",
      "h2                               4.2.0                  pyhd8ed1ab_0           conda-forge\n",
      "hpack                            4.1.0                  pyhd8ed1ab_0           conda-forge\n",
      "httpcore                         1.0.9                  pyh29332c3_0           conda-forge\n",
      "httpx                            0.28.1                 pyhd8ed1ab_0           conda-forge\n",
      "hyperframe                       6.1.0                  pyhd8ed1ab_0           conda-forge\n",
      "idna                             3.7                    py313haa95532_0\n",
      "importlib-metadata               8.7.0                  pyhe01879c_1           conda-forge\n",
      "ipykernel                        6.30.1                 pyh3521513_0           conda-forge\n",
      "ipython                          9.4.0                  pyh6be1c34_0           conda-forge\n",
      "ipython_pygments_lexers          1.1.1                  pyhd8ed1ab_0           conda-forge\n",
      "ipywidgets                       8.1.7                  pyhd8ed1ab_0           conda-forge\n",
      "isoduration                      20.11.0                pyhd8ed1ab_1           conda-forge\n",
      "jedi                             0.19.2                 pyhd8ed1ab_1           conda-forge\n",
      "jinja2                           3.1.6                  pyhd8ed1ab_0           conda-forge\n",
      "json5                            0.12.0                 pyhd8ed1ab_0           conda-forge\n",
      "jsonpatch                        1.33                   py313haa95532_1\n",
      "jsonpointer                      2.1                    pyhd3eb1b0_0\n",
      "jsonschema                       4.25.0                 pyhe01879c_0           conda-forge\n",
      "jsonschema-specifications        2025.4.1               pyh29332c3_0           conda-forge\n",
      "jsonschema-with-format-nongpl    4.25.0                 he01879c_0             conda-forge\n",
      "jupyter                          1.1.1                  pyhd8ed1ab_1           conda-forge\n",
      "jupyter-lsp                      2.2.6                  pyhe01879c_0           conda-forge\n",
      "jupyter_client                   8.6.3                  pyhd8ed1ab_1           conda-forge\n",
      "jupyter_console                  6.6.3                  pyhd8ed1ab_1           conda-forge\n",
      "jupyter_core                     5.8.1                  pyh5737063_0           conda-forge\n",
      "jupyter_events                   0.12.0                 pyh29332c3_0           conda-forge\n",
      "jupyter_server                   2.16.0                 pyhe01879c_0           conda-forge\n",
      "jupyter_server_terminals         0.5.3                  pyhd8ed1ab_1           conda-forge\n",
      "jupyterlab                       4.4.5                  pyhd8ed1ab_0           conda-forge\n",
      "jupyterlab_pygments              0.3.0                  pyhd8ed1ab_2           conda-forge\n",
      "jupyterlab_server                2.27.3                 pyhd8ed1ab_1           conda-forge\n",
      "jupyterlab_widgets               3.0.15                 pyhd8ed1ab_0           conda-forge\n",
      "krb5                             1.21.3                 hdf4eb48_0             conda-forge\n",
      "lark                             1.2.2                  pyhd8ed1ab_1           conda-forge\n",
      "libarchive                       3.7.7                  h9243413_0\n",
      "libblas                          3.9.0                  34_h5709861_mkl        conda-forge\n",
      "libcblas                         3.9.0                  34_h2a3cdd5_mkl        conda-forge\n",
      "libcurl                          8.14.1                 ha9f67de_0\n",
      "libffi                           3.4.4                  hd77b12b_1\n",
      "libhwloc                         2.12.1                 default_h88281d1_1000  conda-forge\n",
      "libiconv                         1.16                   h2bbff1b_3\n",
      "liblapack                        3.9.0                  34_hf9ab0e9_mkl        conda-forge\n",
      "libmamba                         2.0.5                  hcd6fe79_1\n",
      "libmambapy                       2.0.5                  py313h214f63a_1\n",
      "libmpdec                         4.0.0                  h827c3e9_0\n",
      "libsodium                        1.0.20                 hc70643c_0             conda-forge\n",
      "libsolv                          0.7.30                 hf2fb9eb_1\n",
      "libssh2                          1.11.1                 h2addb87_0\n",
      "libwinpthread                    12.0.0.r4.gg4f2fc60ca  h57928b3_9             conda-forge\n",
      "libxml2                          2.13.8                 h866ff63_0\n",
      "llvm-openmp                      20.1.8                 hfa2b4ca_1             conda-forge\n",
      "lz4-c                            1.9.4                  h2bbff1b_1\n",
      "markdown-it-py                   2.2.0                  py313haa95532_1\n",
      "markupsafe                       3.0.2                  py313hb4c8b1a_1        conda-forge\n",
      "matplotlib-inline                0.1.7                  pyhd8ed1ab_1           conda-forge\n",
      "mdurl                            0.1.0                  py313haa95532_0\n",
      "menuinst                         2.3.0                  py313h5da7b33_0\n",
      "mistune                          3.1.3                  pyh29332c3_0           conda-forge\n",
      "mkl                              2024.2.2               h57928b3_16            conda-forge\n",
      "nbclient                         0.10.2                 pyhd8ed1ab_0           conda-forge\n",
      "nbconvert-core                   7.16.6                 pyh29332c3_0           conda-forge\n",
      "nbformat                         5.10.4                 pyhd8ed1ab_1           conda-forge\n",
      "nest-asyncio                     1.6.0                  pyhd8ed1ab_1           conda-forge\n",
      "nlohmann_json                    3.11.2                 h6c2663c_0\n",
      "notebook                         7.4.5                  pyhd8ed1ab_0           conda-forge\n",
      "notebook-shim                    0.2.4                  pyhd8ed1ab_1           conda-forge\n",
      "numpy                            2.3.2                  py313hce7ae62_0        conda-forge\n",
      "openssl                          3.5.2                  h725018a_0             conda-forge\n",
      "overrides                        7.7.0                  pyhd8ed1ab_1           conda-forge\n",
      "packaging                        24.2                   py313haa95532_0\n",
      "pandocfilters                    1.5.0                  pyhd8ed1ab_0           conda-forge\n",
      "parso                            0.8.4                  pyhd8ed1ab_1           conda-forge\n",
      "pcre2                            10.42                  h0ff8eda_1\n",
      "pickleshare                      0.7.5                  pyhd8ed1ab_1004        conda-forge\n",
      "pip                              25.1                   pyhc872135_2\n",
      "platformdirs                     4.3.7                  py313haa95532_0\n",
      "pluggy                           1.5.0                  py313haa95532_0\n",
      "prometheus_client                0.22.1                 pyhd8ed1ab_0           conda-forge\n",
      "prompt-toolkit                   3.0.51                 pyha770c72_0           conda-forge\n",
      "prompt_toolkit                   3.0.51                 hd8ed1ab_0             conda-forge\n",
      "psutil                           7.0.0                  py313ha7868ed_0        conda-forge\n",
      "pure_eval                        0.2.3                  pyhd8ed1ab_1           conda-forge\n",
      "pybind11-abi                     5                      hd3eb1b0_0\n",
      "pycosat                          0.6.6                  py313h827c3e9_2\n",
      "pycparser                        2.21                   pyhd3eb1b0_0\n",
      "pydantic                         2.11.7                 py313haa95532_0\n",
      "pydantic-core                    2.33.2                 py313h215eeae_0\n",
      "pygments                         2.19.1                 py313haa95532_0\n",
      "pysocks                          1.7.1                  py313haa95532_0\n",
      "python                           3.13.5                 h286a616_100_cp313\n",
      "python-dateutil                  2.9.0.post0            pyhe01879c_2           conda-forge\n",
      "python-fastjsonschema            2.21.1                 pyhd8ed1ab_0           conda-forge\n",
      "python-json-logger               2.0.7                  pyhd8ed1ab_0           conda-forge\n",
      "python_abi                       3.13                   0_cp313\n",
      "pytz                             2025.2                 pyhd8ed1ab_0           conda-forge\n",
      "pywin32                          311                    py313h40c08fc_0        conda-forge\n",
      "pywinpty                         2.0.15                 py313h5813708_0        conda-forge\n",
      "pyyaml                           6.0.2                  py313hb4c8b1a_2        conda-forge\n",
      "pyzmq                            27.0.1                 py313h0c81aa5_0        conda-forge\n",
      "referencing                      0.36.2                 pyh29332c3_0           conda-forge\n",
      "reproc                           14.2.4                 hd77b12b_2\n",
      "reproc-cpp                       14.2.4                 hd77b12b_2\n",
      "requests                         2.32.4                 py313haa95532_0\n",
      "rfc3339-validator                0.1.4                  pyhd8ed1ab_1           conda-forge\n",
      "rfc3986-validator                0.1.1                  pyh9f0ad1d_0           conda-forge\n",
      "rfc3987-syntax                   1.1.0                  pyhe01879c_1           conda-forge\n",
      "rich                             13.9.4                 py313haa95532_0\n",
      "rpds-py                          0.27.0                 py313hfbe8231_0        conda-forge\n",
      "ruamel.yaml                      0.18.10                py313h827c3e9_0\n",
      "ruamel.yaml.clib                 0.2.12                 py313h827c3e9_0\n",
      "send2trash                       1.8.3                  pyh5737063_1           conda-forge\n",
      "setuptools                       78.1.1                 py313haa95532_0\n",
      "simdjson                         3.10.1                 h214f63a_0\n",
      "six                              1.17.0                 pyhe01879c_1           conda-forge\n",
      "sniffio                          1.3.1                  pyhd8ed1ab_1           conda-forge\n",
      "soupsieve                        2.7                    pyhd8ed1ab_0           conda-forge\n",
      "spdlog                           1.11.0                 h59b6b97_0\n",
      "sqlite                           3.50.2                 hda9a48d_1\n",
      "stack_data                       0.6.3                  pyhd8ed1ab_1           conda-forge\n",
      "tbb                              2021.13.0              h18a62a1_2             conda-forge\n",
      "terminado                        0.18.1                 pyh5737063_0           conda-forge\n",
      "tinycss2                         1.4.0                  pyhd8ed1ab_0           conda-forge\n",
      "tk                               8.6.14                 h5e9d12e_1\n",
      "tomli                            2.2.1                  pyhe01879c_2           conda-forge\n",
      "tornado                          6.5.2                  py313h5ea7bf4_0        conda-forge\n",
      "tqdm                             4.67.1                 py313h4442805_0\n",
      "traitlets                        5.14.3                 pyhd8ed1ab_1           conda-forge\n",
      "truststore                       0.10.0                 py313haa95532_0\n",
      "types-python-dateutil            2.9.0.20250809         pyhd8ed1ab_0           conda-forge\n",
      "typing-extensions                4.12.2                 py313haa95532_0\n",
      "typing-inspection                0.4.0                  py313haa95532_0\n",
      "typing_extensions                4.12.2                 py313haa95532_0\n",
      "typing_utils                     0.1.0                  pyhd8ed1ab_1           conda-forge\n",
      "tzdata                           2025b                  h04d1e81_0\n",
      "ucrt                             10.0.22621.0           haa95532_0\n",
      "uri-template                     1.3.0                  pyhd8ed1ab_1           conda-forge\n",
      "urllib3                          2.5.0                  py313haa95532_0\n",
      "vc                               14.3                   h2df5915_10\n",
      "vc14_runtime                     14.44.35208            h4927774_10\n",
      "vs2015_runtime                   14.44.35208            ha6b5a95_10\n",
      "wcwidth                          0.2.13                 pyhd8ed1ab_1           conda-forge\n",
      "webcolors                        24.11.1                pyhd8ed1ab_0           conda-forge\n",
      "webencodings                     0.5.1                  pyhd8ed1ab_3           conda-forge\n",
      "websocket-client                 1.8.0                  pyhd8ed1ab_1           conda-forge\n",
      "wheel                            0.45.1                 py313haa95532_0\n",
      "widgetsnbextension               4.0.14                 pyhd8ed1ab_0           conda-forge\n",
      "win_inet_pton                    1.1.0                  py313haa95532_0\n",
      "winpty                           0.4.3                  4                      conda-forge\n",
      "xz                               5.6.4                  h4754444_1\n",
      "yaml                             0.2.5                  h6a83c73_3             conda-forge\n",
      "yaml-cpp                         0.8.0                  hd77b12b_1\n",
      "zeromq                           4.3.5                  ha9f60a1_7             conda-forge\n",
      "zipp                             3.23.0                 pyhd8ed1ab_0           conda-forge\n",
      "zlib                             1.2.13                 h8cc25b3_1\n",
      "zstandard                        0.23.0                 py313h4fc1ca9_1\n",
      "zstd                             1.5.6                  h8880b57_0\n"
     ]
    }
   ],
   "source": [
    "!"
   ]
  },
  {
   "attachments": {},
   "cell_type": "markdown",
   "id": "8a98562e",
   "metadata": {},
   "source": [
    "# 2 Install Notebook 7"
   ]
  },
  {
   "attachments": {},
   "cell_type": "markdown",
   "id": "2ab27625",
   "metadata": {},
   "source": [
    "# Jupyter Extensions"
   ]
  },
  {
   "attachments": {},
   "cell_type": "markdown",
   "id": "47a20fd4",
   "metadata": {},
   "source": [
    "## Installing the extensions"
   ]
  },
  {
   "attachments": {},
   "cell_type": "markdown",
   "id": "0ab31e0c",
   "metadata": {},
   "source": [
    "## Enabling the extensions"
   ]
  },
  {
   "attachments": {},
   "cell_type": "markdown",
   "id": "ca5a0982",
   "metadata": {},
   "source": [
    "# 3 Shell Magic"
   ]
  },
  {
   "attachments": {},
   "cell_type": "markdown",
   "id": "4b9a31e7",
   "metadata": {},
   "source": [
    "# 4 The Kernel"
   ]
  }
 ],
 "metadata": {
  "kernelspec": {
   "display_name": "Python 3 (ipykernel)",
   "language": "python",
   "name": "python3"
  },
  "language_info": {
   "codemirror_mode": {
    "name": "ipython",
    "version": 3
   },
   "file_extension": ".py",
   "mimetype": "text/x-python",
   "name": "python",
   "nbconvert_exporter": "python",
   "pygments_lexer": "ipython3",
   "version": "3.13.5"
  },
  "toc": {
   "base_numbering": 1,
   "nav_menu": {},
   "number_sections": true,
   "sideBar": true,
   "skip_h1_title": false,
   "title_cell": "Table of Contents",
   "title_sidebar": "Contents",
   "toc_cell": false,
   "toc_position": {},
   "toc_section_display": true,
   "toc_window_display": false
  },
  "vscode": {
   "interpreter": {
    "hash": "31f2aee4e71d21fbe5cf8b01ff0e069b9275f58929596ceb00d14d90e3e16cd6"
   }
  }
 },
 "nbformat": 4,
 "nbformat_minor": 5
}
