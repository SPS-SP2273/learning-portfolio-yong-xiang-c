{
 "cells": [
  {
   "attachments": {},
   "cell_type": "markdown",
   "id": "123456",
   "metadata": {},
   "source": [
    "<div style=\"text-align:left;font-size:2em\"><span style=\"font-weight:bolder;font-size:1.25em\">SP2273 | Learning Portfolio</span><br><br><span style=\"font-weight:bold;color:darkred\">Functions (Good) Exercises</span></div>"
   ]
  },
  {
   "cell_type": "markdown",
   "id": "19cf4fd1",
   "metadata": {},
   "source": [
    "# Exercise 1 (Celsius to Fahrenheit or Kelvin) #"
   ]
  },
  {
   "cell_type": "code",
   "execution_count": 1,
   "id": "8a1bcb3a",
   "metadata": {},
   "outputs": [],
   "source": [
    "import math"
   ]
  },
  {
   "cell_type": "code",
   "execution_count": 13,
   "id": "6bbe59ff",
   "metadata": {},
   "outputs": [
    {
     "name": "stdout",
     "output_type": "stream",
     "text": [
      "296.15 Kelvin\n"
     ]
    }
   ],
   "source": [
    "def convert_celsius(temperature_celsius, target_scale = \"Fahrenheit\"):\n",
    "    if target_scale == \"Kelvin\":\n",
    "        convert_celsius = temperature_celsius + 273.15\n",
    "        return convert_celsius\n",
    "    else:\n",
    "        convert_celsius = (temperature_celsius * 9/5) + 32\n",
    "        return convert_celsius\n",
    "\n",
    "target_unit = input(\"Please enter your target scale, Fahrenheit or Kelvin, for conversion from Celsius.\")\n",
    "temp_input = float(input(\"Please enter the temperature in Celsius.\"))\n",
    "print(f\"{convert_celsius(temp_input, target_unit)} {target_unit}\")"
   ]
  },
  {
   "cell_type": "markdown",
   "id": "48136be7",
   "metadata": {},
   "source": [
    "# Exercise 2 (Fahrenheit to Celsius or Kelvin) #"
   ]
  },
  {
   "cell_type": "code",
   "execution_count": 4,
   "id": "3e4a567a",
   "metadata": {},
   "outputs": [],
   "source": [
    "import math"
   ]
  },
  {
   "cell_type": "code",
   "execution_count": 14,
   "id": "2901e364",
   "metadata": {},
   "outputs": [
    {
     "name": "stdout",
     "output_type": "stream",
     "text": [
      "-5.0 Celsius\n"
     ]
    }
   ],
   "source": [
    "def convert_fahrenheit(temperature_fahrenheit, target_scale = \"Celsius\"):\n",
    "    if target_scale == \"Kelvin\":\n",
    "        convert_fahrenheit = (temperature_fahrenheit - 32) * 5/9 + 273.15\n",
    "        return convert_fahrenheit\n",
    "    else:\n",
    "        convert_fahrenheit = (temperature_fahrenheit - 32) * 5/9\n",
    "        return convert_fahrenheit\n",
    "\n",
    "target_unit = input(\"Please enter your target scale, Celsius or Kelvin, for conversion from Fahrenheit.\")\n",
    "temp_input = float(input(\"Please enter the temperature in Fahrenheit.\"))\n",
    "print(f\"{convert_fahrenheit(temp_input, target_unit)} {target_unit}\")"
   ]
  },
  {
   "cell_type": "markdown",
   "id": "2a6eaf4f",
   "metadata": {},
   "source": [
    "# Exercise 3 (General Temperature Conversion) #"
   ]
  },
  {
   "cell_type": "code",
   "execution_count": 5,
   "id": "1ee278be",
   "metadata": {},
   "outputs": [],
   "source": [
    "import math"
   ]
  },
  {
   "cell_type": "code",
   "execution_count": 24,
   "id": "f92d3984",
   "metadata": {},
   "outputs": [
    {
     "name": "stdout",
     "output_type": "stream",
     "text": [
      "280.3722222222222 Kelvin\n"
     ]
    }
   ],
   "source": [
    "def convert_kelvin(temperature, target_scale):\n",
    "            if target_scale == \"Celsius\":\n",
    "                convert_kelvin = temperature - 273.15\n",
    "                return convert_kelvin\n",
    "            else:\n",
    "                convert_kelvin = (temperature - 273.15) * 9/5 + 32\n",
    "                return convert_kelvin\n",
    "\n",
    "def convert_temperature(temperature, source_scale, target_scale):\n",
    "    if source_scale == \"Celsius\":\n",
    "        temp_c = convert_celsius(temperature, target_scale)\n",
    "        return temp_c\n",
    "    if source_scale == \"Fahrenheit\":\n",
    "        temp_f = convert_fahrenheit(temperature, target_scale)\n",
    "        return temp_f\n",
    "    else:\n",
    "        temp_k = convert_kelvin(temperature, target_scale)\n",
    "        return temp_k\n",
    "\n",
    "temp = float(input(\"Please enter the temperature value - only numbers.\"))\n",
    "source = input(\"Please input the units of the temperature you entered earlier, Celsius, Fahrenheit, or Kelvin.\")\n",
    "target = input(\"Please enter the target unit you wish to obtain, Celsius, Fahrenheit, or Kelvin.\")\n",
    "print(f\"{convert_temperature(temp, source, target)} {target}\")"
   ]
  }
 ],
 "metadata": {
  "kernelspec": {
   "display_name": "base",
   "language": "python",
   "name": "python3"
  },
  "language_info": {
   "codemirror_mode": {
    "name": "ipython",
    "version": 3
   },
   "file_extension": ".py",
   "mimetype": "text/x-python",
   "name": "python",
   "nbconvert_exporter": "python",
   "pygments_lexer": "ipython3",
   "version": "3.13.5"
  },
  "toc": {
   "base_numbering": 1,
   "nav_menu": {},
   "number_sections": true,
   "sideBar": true,
   "skip_h1_title": false,
   "title_cell": "Table of Contents",
   "title_sidebar": "Contents",
   "toc_cell": false,
   "toc_position": {},
   "toc_section_display": true,
   "toc_window_display": false
  }
 },
 "nbformat": 4,
 "nbformat_minor": 5
}
