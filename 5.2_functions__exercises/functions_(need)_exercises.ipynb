{
 "cells": [
  {
   "attachments": {},
   "cell_type": "markdown",
   "id": "123456",
   "metadata": {},
   "source": [
    "<div style=\"text-align:left;font-size:2em\"><span style=\"font-weight:bolder;font-size:1.25em\">SP2273 | Learning Portfolio</span><br><br><span style=\"font-weight:bold;color:darkred\">Functions (Need) Exercises</span></div>"
   ]
  },
  {
   "cell_type": "markdown",
   "id": "0e88107e",
   "metadata": {},
   "source": [
    "# Exercise 1 (Do you know why?)"
   ]
  },
  {
   "cell_type": "code",
   "execution_count": 1,
   "id": "1433ad69",
   "metadata": {},
   "outputs": [],
   "source": [
    "def greeting(name):\n",
    "    if name == 'Batman':\n",
    "        return 'Hello Batman! So, nice to meet you!'\n",
    "    return f'Hello {name}!'"
   ]
  },
  {
   "cell_type": "markdown",
   "id": "2366e75a",
   "metadata": {},
   "source": [
    "As there is no action necessary when the condition of \"name == 'Batman'\" is false, the code will run and execute line 4, even without an _else_ statement."
   ]
  },
  {
   "cell_type": "markdown",
   "id": "82e7d14d",
   "metadata": {},
   "source": [
    "# Exercise 2 (Chubby or not) #"
   ]
  },
  {
   "cell_type": "code",
   "execution_count": 2,
   "id": "48789fca",
   "metadata": {},
   "outputs": [],
   "source": [
    "import math"
   ]
  },
  {
   "cell_type": "code",
   "execution_count": 5,
   "id": "c081d1f4",
   "metadata": {},
   "outputs": [
    {
     "name": "stdout",
     "output_type": "stream",
     "text": [
      "As your BMI is between 25 and 29.9, you are overweight.\n"
     ]
    }
   ],
   "source": [
    "def calculate_bmi(bmi):\n",
    "    if bmi < 18.5:\n",
    "        return \"As your BMI is below 18.5, you are underweight.\"\n",
    "    elif 18.5 <= bmi <= 24.9:\n",
    "        return \"As your BMI is between 18.5 and 24.9, you are of normal weight.\"\n",
    "    elif 25 <= bmi <= 29.9:\n",
    "        return \"As your BMI is between 25 and 29.9, you are overweight.\"\n",
    "    else:\n",
    "        bmi >= 30\n",
    "        return \"As your BMI is 30 or more, you are obese.\"\n",
    "    \n",
    "weight = float(input('Please input your weight in kilograms here.'))\n",
    "height = float(input('Please input your height in metres here.'))\n",
    "BMI = weight / (height**2)\n",
    "print(f\"{calculate_bmi(BMI)}\")\n"
   ]
  },
  {
   "cell_type": "markdown",
   "id": "34b1dd4e",
   "metadata": {},
   "source": [
    "# Exercise 3 (Factorials) #"
   ]
  },
  {
   "cell_type": "code",
   "execution_count": 1,
   "id": "7edd8197",
   "metadata": {},
   "outputs": [],
   "source": [
    "import math"
   ]
  },
  {
   "cell_type": "code",
   "execution_count": 20,
   "id": "a4da8c8f",
   "metadata": {},
   "outputs": [
    {
     "name": "stdout",
     "output_type": "stream",
     "text": [
      "The factorial of 3 is 6.\n"
     ]
    }
   ],
   "source": [
    "def factorial(n):\n",
    "    if n < 0:\n",
    "        return \"Please enter a positive integer value.\"\n",
    "    elif n == 0:\n",
    "        return 1\n",
    "    else:\n",
    "        result = 1\n",
    "        for number in range(1, n+1):\n",
    "            result *= number\n",
    "        return result\n",
    "    \n",
    "x = int(input('Enter an integer value to get the corresponding factorial.'))\n",
    "print(f\"The factorial of {x} is {factorial(x)}.\")"
   ]
  }
 ],
 "metadata": {
  "kernelspec": {
   "display_name": "base",
   "language": "python",
   "name": "python3"
  },
  "language_info": {
   "codemirror_mode": {
    "name": "ipython",
    "version": 3
   },
   "file_extension": ".py",
   "mimetype": "text/x-python",
   "name": "python",
   "nbconvert_exporter": "python",
   "pygments_lexer": "ipython3",
   "version": "3.13.5"
  },
  "toc": {
   "base_numbering": 1,
   "nav_menu": {},
   "number_sections": true,
   "sideBar": true,
   "skip_h1_title": false,
   "title_cell": "Table of Contents",
   "title_sidebar": "Contents",
   "toc_cell": false,
   "toc_position": {},
   "toc_section_display": true,
   "toc_window_display": false
  }
 },
 "nbformat": 4,
 "nbformat_minor": 5
}
