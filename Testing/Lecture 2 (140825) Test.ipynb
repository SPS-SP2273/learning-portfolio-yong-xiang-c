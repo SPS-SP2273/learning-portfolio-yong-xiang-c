{
 "cells": [
  {
   "cell_type": "markdown",
   "id": "0969f88e",
   "metadata": {},
   "source": [
    "*hahaha* is in **italics**\n"
   ]
  },
  {
   "cell_type": "code",
   "execution_count": 24,
   "id": "ac9f8148",
   "metadata": {},
   "outputs": [
    {
     "name": "stdout",
     "output_type": "stream",
     "text": [
      "Hello \n"
     ]
    }
   ],
   "source": [
    "print('Hello ')"
   ]
  },
  {
   "cell_type": "markdown",
   "id": "b821b02e",
   "metadata": {},
   "source": [
    "- Master Yoda\n",
    "  - Luke Skywalker\n",
    "- Anakin Skywalker\n"
   ]
  },
  {
   "cell_type": "markdown",
   "id": "f9641b36",
   "metadata": {},
   "source": [
    "You can visit the SPS website [here](https://sps.nus.edu.sg/sp2273)"
   ]
  },
  {
   "cell_type": "markdown",
   "id": "0b86031a",
   "metadata": {},
   "source": [
    "| A    |  B   |    C |\n",
    "| :--- | :--: | ---: |\n",
    "| a1   |  b1  |   c1 |\n",
    "| a2   |  b2  |   c2 |\n",
    "| a3   |  b3  |   c3 |\n"
   ]
  },
  {
   "cell_type": "markdown",
   "id": "5b9c553c",
   "metadata": {},
   "source": [
    "$x^2$"
   ]
  },
  {
   "cell_type": "markdown",
   "id": "0e3478c0",
   "metadata": {},
   "source": [
    "The ships *hung in the sky* in much the same way that **bricks don't.**<sup>1</sup><sub>QUOTED</sub>"
   ]
  },
  {
   "cell_type": "markdown",
   "id": "313e51df",
   "metadata": {},
   "source": [
    "# Heading"
   ]
  },
  {
   "cell_type": "markdown",
   "id": "4a022668",
   "metadata": {},
   "source": [
    "## Sub-heading 1"
   ]
  },
  {
   "cell_type": "markdown",
   "id": "873c900f",
   "metadata": {},
   "source": [
    "### Sub-heading 2"
   ]
  },
  {
   "cell_type": "markdown",
   "id": "5c4b6235",
   "metadata": {},
   "source": [
    "1. Anakin\n",
    "   - Jedi turned Sith\n",
    "1. Luke"
   ]
  },
  {
   "cell_type": "markdown",
   "id": "e727dae6",
   "metadata": {},
   "source": [
    "![](https://nus.edu.sg/images/default-source/base/logo.png)"
   ]
  },
  {
   "cell_type": "markdown",
   "id": "2a4bc299",
   "metadata": {},
   "source": [
    "$$x = \\dfrac{-b \\pm \\sqrt{b^2-4ac}}{2a}$$"
   ]
  },
  {
   "cell_type": "markdown",
   "id": "e219a7e1",
   "metadata": {},
   "source": []
  }
 ],
 "metadata": {
  "kernelspec": {
   "display_name": "base",
   "language": "python",
   "name": "python3"
  },
  "language_info": {
   "codemirror_mode": {
    "name": "ipython",
    "version": 3
   },
   "file_extension": ".py",
   "mimetype": "text/x-python",
   "name": "python",
   "nbconvert_exporter": "python",
   "pygments_lexer": "ipython3",
   "version": "3.13.5"
  }
 },
 "nbformat": 4,
 "nbformat_minor": 5
}
