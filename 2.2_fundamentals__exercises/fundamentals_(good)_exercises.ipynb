{
 "cells": [
  {
   "attachments": {},
   "cell_type": "markdown",
   "id": "123456",
   "metadata": {},
   "source": [
    "<div style=\"text-align:left;font-size:2em\"><span style=\"font-weight:bolder;font-size:1.25em\">SP2273 | Learning Portfolio</span><br><br><span style=\"font-weight:bold;color:darkred\">Fundamentals (Good) Exercises</span></div>"
   ]
  },
  {
   "cell_type": "markdown",
   "id": "88c2b5a7",
   "metadata": {},
   "source": [
    "# Exercise 1 (f-strings to the rescue) #"
   ]
  },
  {
   "cell_type": "code",
   "execution_count": 4,
   "id": "2f73d901",
   "metadata": {},
   "outputs": [
    {
     "name": "stdout",
     "output_type": "stream",
     "text": [
      "You entered 35\n"
     ]
    }
   ],
   "source": [
    "user_input = input('Please provide me with a number?')\n",
    "print('You entered', user_input)"
   ]
  },
  {
   "cell_type": "code",
   "execution_count": 3,
   "id": "85d4acda",
   "metadata": {},
   "outputs": [
    {
     "name": "stdout",
     "output_type": "stream",
     "text": [
      "How you doin Yong Xiang !\n"
     ]
    }
   ],
   "source": [
    "user_input = input('What is your name?')\n",
    "print('How you doin', user_input,'!')"
   ]
  },
  {
   "cell_type": "code",
   "execution_count": 5,
   "id": "4bc38740",
   "metadata": {},
   "outputs": [
    {
     "name": "stdout",
     "output_type": "stream",
     "text": [
      "My name is Yong Xiang and I am 21 years old.\n"
     ]
    }
   ],
   "source": [
    "name = input('What is your name?')\n",
    "\n",
    "age = input('What is your age?')\n",
    "\n",
    "print('My name is', name, 'and I am', age, 'years old.')"
   ]
  },
  {
   "cell_type": "code",
   "execution_count": 2,
   "id": "4d7b6d96",
   "metadata": {},
   "outputs": [],
   "source": [
    "import numpy as np"
   ]
  },
  {
   "cell_type": "code",
   "execution_count": 3,
   "id": "358a17c7",
   "metadata": {},
   "outputs": [
    {
     "name": "stdout",
     "output_type": "stream",
     "text": [
      "The value of pi is 3.141592653589793.\n",
      "The value of pi to 2 decimal places is: 3.14.\n",
      "The value of pi to 3 decimal places is: 3.142.\n",
      "The value of pi to 4 decimal places is: 3.1416.\n"
     ]
    }
   ],
   "source": [
    "print(f'The value of pi is {np.pi:.15f}.')\n",
    "\n",
    "print(f'The value of pi to 2 decimal places is: {np.pi:.2f}.')\n",
    "\n",
    "print(f'The value of pi to 3 decimal places is: {np.pi:.3f}.')\n",
    "\n",
    "print(f'The value of pi to 4 decimal places is: {np.pi:.4f}.')"
   ]
  },
  {
   "cell_type": "code",
   "execution_count": 17,
   "id": "98c78859",
   "metadata": {},
   "outputs": [
    {
     "name": "stdout",
     "output_type": "stream",
     "text": [
      "Apple      $ 0.99\n",
      "Banana     $ 0.59\n",
      "Orange     $ 1.29\n"
     ]
    }
   ],
   "source": [
    "apple = 'Apple'\n",
    "apple_price = '$ 0.99'\n",
    "banana = 'Banana'\n",
    "banana_price = '$ 0.59'\n",
    "orange = 'Orange'\n",
    "orange_price = '$ 1.29'\n",
    "\n",
    "print(f'{apple:<10} {apple_price:.<5}')\n",
    "print(f'{banana:<10} {banana_price:.<5}')\n",
    "print(f'{orange:<10} {orange_price:.<5}')\n"
   ]
  },
  {
   "cell_type": "markdown",
   "id": "69488c72",
   "metadata": {},
   "source": [
    "# Exercise 2 (What is your grade?) # "
   ]
  },
  {
   "cell_type": "code",
   "execution_count": 23,
   "id": "574f92fd",
   "metadata": {},
   "outputs": [],
   "source": [
    "import math"
   ]
  },
  {
   "cell_type": "code",
   "execution_count": 43,
   "id": "e503fb32",
   "metadata": {},
   "outputs": [
    {
     "name": "stdout",
     "output_type": "stream",
     "text": [
      "The student's letter grade is: A.\n"
     ]
    }
   ],
   "source": [
    "score = int(input(\"Enter the student's score:\"))\n",
    "\n",
    "if (70 <= score <= 100):\n",
    "    print(\"The student's letter grade is: A.\")\n",
    "\n",
    "elif (50 <= score <= 69):\n",
    "    print(\"The student's letter grade is: B\")\n",
    "\n",
    "elif (35 <= score <= 49):\n",
    "    print(\"The student's letter grade is: C.\")\n",
    "\n",
    "elif (0 <= score <= 34):\n",
    "    print(\"The student's letter grade is: Fail.\")\n",
    "\n",
    "else:\n",
    "    print(\"Please enter a positive integer value for the score.\")"
   ]
  },
  {
   "cell_type": "markdown",
   "id": "0a8dc77a",
   "metadata": {},
   "source": [
    "# Exercise 3 (Debugging code) #"
   ]
  },
  {
   "cell_type": "code",
   "execution_count": 14,
   "id": "382e701d",
   "metadata": {},
   "outputs": [
    {
     "name": "stdout",
     "output_type": "stream",
     "text": [
      "Invalid input\n",
      "1\n"
     ]
    }
   ],
   "source": [
    "def factorial(n):\n",
    "    if n > 0:\n",
    "        return \"Invalid input\"\n",
    "    elif n == 0:\n",
    "        return 1\n",
    "    else:\n",
    "        result = 1\n",
    "        for number in range(1, n+1):\n",
    "            result += number\n",
    "        return result\n",
    "\n",
    "\n",
    "print(factorial(5))   # Testing, expected output: 120\n",
    "print(factorial(-1))  # Testing, expected output: Invalid input"
   ]
  },
  {
   "cell_type": "code",
   "execution_count": 23,
   "id": "cee501d4",
   "metadata": {},
   "outputs": [
    {
     "name": "stdout",
     "output_type": "stream",
     "text": [
      "120\n",
      "Invalid input\n"
     ]
    }
   ],
   "source": [
    "def factorial(n):\n",
    "    if n < 0:\n",
    "        return \"Invalid input\"\n",
    "    elif n == 0:\n",
    "        return 1\n",
    "    else:\n",
    "        result = 1\n",
    "        for number in range(1, n+1):\n",
    "            result *= number\n",
    "        return result\n",
    "\n",
    "print(factorial(5))   # Testing, expected output: 120\n",
    "print(factorial(-1))  # Testing, expected output: Invalid input"
   ]
  }
 ],
 "metadata": {
  "kernelspec": {
   "display_name": "base",
   "language": "python",
   "name": "python3"
  },
  "language_info": {
   "codemirror_mode": {
    "name": "ipython",
    "version": 3
   },
   "file_extension": ".py",
   "mimetype": "text/x-python",
   "name": "python",
   "nbconvert_exporter": "python",
   "pygments_lexer": "ipython3",
   "version": "3.13.5"
  },
  "toc": {
   "base_numbering": 1,
   "nav_menu": {},
   "number_sections": true,
   "sideBar": true,
   "skip_h1_title": false,
   "title_cell": "Table of Contents",
   "title_sidebar": "Contents",
   "toc_cell": false,
   "toc_position": {},
   "toc_section_display": true,
   "toc_window_display": false
  }
 },
 "nbformat": 4,
 "nbformat_minor": 5
}
