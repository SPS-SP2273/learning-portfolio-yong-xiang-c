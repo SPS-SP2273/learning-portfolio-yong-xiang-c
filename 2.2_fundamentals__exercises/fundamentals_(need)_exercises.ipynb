{
 "cells": [
  {
   "attachments": {},
   "cell_type": "markdown",
   "id": "123456",
   "metadata": {},
   "source": [
    "<div style=\"text-align:left;font-size:2em\"><span style=\"font-weight:bolder;font-size:1.25em\">SP2273 | Learning Portfolio</span><br><br><span style=\"font-weight:bold;color:darkred\">Fundamentals (Need) Exercises</span></div>"
   ]
  },
  {
   "cell_type": "markdown",
   "id": "63d07bab",
   "metadata": {},
   "source": [
    "# Exercise 1 (Total recall?) #"
   ]
  },
  {
   "cell_type": "markdown",
   "id": "2b247936",
   "metadata": {},
   "source": [
    "1. print()\n",
    "1. Coding (python) and markdown cells\n",
    "1. Python is case-sensitive.\n",
    "1. You can write comments in the code (for clarity on purpose of the code). - after \"#\"\n",
    "1. Indentations are important to separate codes.\n",
    "1. You can import packages to the notebook (i.e. math and numpy) to add more functions.\n",
    "1. _\"=\" assigns a value, while \"==\" asks a question._\n",
    "1. _You can use **if** to ask questions_\n",
    "1. _( ) can be used for functions and mathematics, [ ] can be used for lists of data, while { } is used to store data into a dictionary._\n",
    "1. _The dot indicates ownership to an imported package._"
   ]
  },
  {
   "cell_type": "markdown",
   "id": "b82e4414",
   "metadata": {},
   "source": [
    "# Exercise 2 (Debug me) #"
   ]
  },
  {
   "cell_type": "code",
   "execution_count": 2,
   "id": "37c3aae8",
   "metadata": {},
   "outputs": [
    {
     "ename": "IndentationError",
     "evalue": "unindent does not match any outer indentation level (<string>, line 3)",
     "output_type": "error",
     "traceback": [
      "  \u001b[36mFile \u001b[39m\u001b[32m<string>:3\u001b[39m\n\u001b[31m    \u001b[39m\u001b[31mPrint(x, y, z)\u001b[39m\n                  ^\n\u001b[31mIndentationError\u001b[39m\u001b[31m:\u001b[39m unindent does not match any outer indentation level\n"
     ]
    }
   ],
   "source": [
    "x, y = 3, 4\n",
    "        z = sqrt(x*2 + y**2)\n",
    "    Print(x, y, z)"
   ]
  },
  {
   "cell_type": "code",
   "execution_count": 4,
   "id": "72b0114b",
   "metadata": {},
   "outputs": [],
   "source": [
    "import math"
   ]
  },
  {
   "cell_type": "code",
   "execution_count": 11,
   "id": "65aa8cb6",
   "metadata": {},
   "outputs": [
    {
     "name": "stdout",
     "output_type": "stream",
     "text": [
      "x = 3 , y = 4 , z = 5.0\n"
     ]
    }
   ],
   "source": [
    "x, y = 3, 4\n",
    "z = math.sqrt(x**2 + y**2)\n",
    "print('x =', x,', y =', y,', z =', z)"
   ]
  },
  {
   "cell_type": "markdown",
   "id": "37dce357",
   "metadata": {},
   "source": [
    "# Exercise 3 (In your own words) #"
   ]
  },
  {
   "cell_type": "markdown",
   "id": "52ad9d77",
   "metadata": {},
   "source": [
    "| **#** |   **Term**   |                                       **Description**                                      |\n",
    "|:-----:|:------------:|:------------------------------------------------------------------------------------------:|\n",
    "|   1   |   Function   | Functions are tasks that will be executed when the code is run.                            |\n",
    "|   2   |   Arguments  | Arguments are values that are passed to the function.                                      |\n",
    "|   3   |   Comments   | Comments are meant to explain a code without interrupting the code itself, used after '#'. |\n",
    "|   4   | Indentations | Indentations are used to separate different sub-codes under a main code in a cell.         |\n",
    "|   5   |   Packages   | Packages contain additional functions that were originally not in the notebook.            |\n",
    "|   6   |       .      | The dot '.' indicates ownership of the command to the package imported.                    |\n",
    "|   7   |       :      | The colon ':' indicates the start of an indented code.                                     |\n",
    "|   8   |      []      | [] is used for lists of data.                                                              |\n",
    "|   9   |    [[],[]]   | [[],[]] represents a list of different data lists.                                         |\n",
    "|   10  |      {}      | {} is used to store data in a dictionary.                                                  |"
   ]
  },
  {
   "cell_type": "markdown",
   "id": "eaac8243",
   "metadata": {},
   "source": [
    "# Exercise 4 (More than one way to divide) #"
   ]
  },
  {
   "cell_type": "code",
   "execution_count": 4,
   "id": "b924c849",
   "metadata": {},
   "outputs": [
    {
     "data": {
      "text/plain": [
       "2.5"
      ]
     },
     "execution_count": 4,
     "metadata": {},
     "output_type": "execute_result"
    }
   ],
   "source": [
    "5/2           # This code will undergo a standard division and give the exact answer as its output."
   ]
  },
  {
   "cell_type": "code",
   "execution_count": 6,
   "id": "59fdfcbb",
   "metadata": {},
   "outputs": [
    {
     "data": {
      "text/plain": [
       "2"
      ]
     },
     "execution_count": 6,
     "metadata": {},
     "output_type": "execute_result"
    }
   ],
   "source": [
    "5//2          # This code gives the quotient after division as the output."
   ]
  },
  {
   "cell_type": "code",
   "execution_count": 7,
   "id": "44c22481",
   "metadata": {},
   "outputs": [
    {
     "data": {
      "text/plain": [
       "1"
      ]
     },
     "execution_count": 7,
     "metadata": {},
     "output_type": "execute_result"
    }
   ],
   "source": [
    "5%2           # This code gives the remainder after division as the output."
   ]
  }
 ],
 "metadata": {
  "kernelspec": {
   "display_name": "base",
   "language": "python",
   "name": "python3"
  },
  "language_info": {
   "codemirror_mode": {
    "name": "ipython",
    "version": 3
   },
   "file_extension": ".py",
   "mimetype": "text/x-python",
   "name": "python",
   "nbconvert_exporter": "python",
   "pygments_lexer": "ipython3",
   "version": "3.13.5"
  },
  "toc": {
   "base_numbering": 1,
   "nav_menu": {},
   "number_sections": true,
   "sideBar": true,
   "skip_h1_title": false,
   "title_cell": "Table of Contents",
   "title_sidebar": "Contents",
   "toc_cell": false,
   "toc_position": {},
   "toc_section_display": true,
   "toc_window_display": false
  }
 },
 "nbformat": 4,
 "nbformat_minor": 5
}
