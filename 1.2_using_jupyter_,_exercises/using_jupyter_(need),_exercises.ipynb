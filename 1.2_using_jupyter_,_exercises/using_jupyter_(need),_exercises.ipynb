{
 "cells": [
  {
   "attachments": {},
   "cell_type": "markdown",
   "id": "123456",
   "metadata": {},
   "source": [
    "<div style=\"text-align:left;font-size:2em\"><span style=\"font-weight:bolder;font-size:1.25em\">SP2273 | Learning Portfolio</span><br><br><span style=\"font-weight:bold;color:darkred\">Using Jupyter (Need), Exercises</span></div>"
   ]
  },
  {
   "cell_type": "markdown",
   "id": "3b894fbd-34c2-4bad-83be-2af9150906a8",
   "metadata": {},
   "source": [
    "# Exercise 1 #"
   ]
  },
  {
   "attachments": {},
   "cell_type": "markdown",
   "id": "ed983621",
   "metadata": {},
   "source": [
    "## 1 Quadratic Equations ##"
   ]
  },
  {
   "attachments": {},
   "cell_type": "markdown",
   "id": "a6f2bd9a",
   "metadata": {},
   "source": [
    "### Introduction ###"
   ]
  },
  {
   "cell_type": "markdown",
   "id": "4a033cc4-a059-416f-b7f4-eb466d79467e",
   "metadata": {},
   "source": [
    "![](https://upload.wikimedia.org/wikipedia/commons/thumb/f/f8/Polynomialdeg2.svg/800px-Polynomialdeg2.svg.png)\n",
    "\n",
    "_(Image from the [Wikipedia page on Quadratic Equations](https://en.wikipedia.org/wiki/Quadratic_equation))_\n",
    "\n",
    "The general form of a quadratic equation is:\n",
    "\n",
    "$$\n",
    "ax^{2}+bx+c=0\n",
    "$$"
   ]
  },
  {
   "attachments": {},
   "cell_type": "markdown",
   "id": "b4caaceb",
   "metadata": {},
   "source": [
    "### Solutions ###"
   ]
  },
  {
   "cell_type": "markdown",
   "id": "3cd8e38e-977f-4a37-82f3-88b5ad8d3bb7",
   "metadata": {},
   "source": [
    "Provided that $a \\ne 0$, we can use an elementary algebraic method called [completing the square](https://en.wikipedia.org/wiki/Completing_the_square) to show that a quadratic equation has the following solution:\n",
    "\n",
    "$$\n",
    "x = \\dfrac{-b \\pm \\sqrt{b^2-4ac}}{2a}\n",
    "$$"
   ]
  },
  {
   "attachments": {},
   "cell_type": "markdown",
   "id": "f6810c70",
   "metadata": {},
   "source": [
    "### Discriminant ###"
   ]
  },
  {
   "cell_type": "markdown",
   "id": "806bdf51-f196-4070-807a-ab32af030afe",
   "metadata": {},
   "source": [
    "The quantity $\\Delta = b^2-4ac$ is called the **discriminant** of the equation and decides the nature of its solutions. The table below shows the various possibilities.\n",
    "\n",
    "|     **Discriminant**     |              **Roots**               |\n",
    "|:------------------------:|:------------------------------------:|\n",
    "| $\\Delta = b^2-4ac=0$     | A single solution of $-b/(2a)$       |\n",
    "| $\\Delta = b^2-4ac \\gt 0$ | Two distinct solutions               |\n",
    "| $\\Delta = b^2-4ac \\lt 0$ | No real solutions; both are complex. |"
   ]
  },
  {
   "cell_type": "markdown",
   "id": "fa7b0171-3e86-40fe-a72e-431c4a74e430",
   "metadata": {},
   "source": [
    "# Exercise 2 (In Your Own Words) #"
   ]
  },
  {
   "cell_type": "markdown",
   "id": "fde19acf-1d85-4d14-ac4f-89cc9d0106e9",
   "metadata": {},
   "source": [
    "1. A Git **repository** is the desktop files storing the code viewed on GitHub.\n",
    "1. Git keeps track of the *edits* in the files in our repository.\n",
    "1. A **commit** is any edits or changes to a code that is to be channelled to the main branch.\n",
    "1. A **push** is to allow any changes to the repository from edits to the desktop file to be reflected on the remote repository, as well as both the Github desktop and website.\n",
    "1. A **pull** is to allow any changes to the repository from edits on GitHub desktop and the Github website to be reflected on the desktop file.\n",
    "1. The difference between **GitHub** and **GitHub desktop** is GitHub is the online website that manages the repository whereas GitHub desktop is the desktop application that acts as a channel between the files in the repository and the GitHub website managing the repository."
   ]
  },
  {
   "cell_type": "markdown",
   "id": "68bedf89-9396-41bb-921e-a896c27fd209",
   "metadata": {},
   "source": [
    "# Exercise 3 (A Matter of Statistics) #"
   ]
  },
  {
   "cell_type": "markdown",
   "id": "fdfa5796-7cca-4554-84aa-3457195f3468",
   "metadata": {},
   "source": [
    "The mean ($\\mu$), the standard deviation ($\\sigma$), and Pearson correlation ($r$) are important statistical parameters. Given variables $x_{i}$ and $y_{i}$ representing the $i$-th values in a dataset with $n$ pairs,\n",
    "\n",
    "$$\n",
    "\\mu = \\dfrac{1}{n} \\sum_{i=1}^{n}x_{i}\n",
    "$$\n",
    "\n",
    "$$\n",
    "\\sigma = \\sqrt{\\dfrac{1}{n} \\sum_{i=1}^{n}(x_{i}-\\mu)^2}\n",
    "$$\n",
    "\n",
    "$$\n",
    "r = \\dfrac{\\sum_{i=1}^{n}(x_{i}-\\mu_{X})(y_{i}-\\mu_{Y})}{\\sqrt{\\sum_{i=1}^{n}(x_{i}-\\mu_{X})^2 \\sum_{i=1}^{n}(y_{i}-\\mu_{Y})^2}}\n",
    "$$"
   ]
  }
 ],
 "metadata": {
  "kernelspec": {
   "display_name": "Python 3 (ipykernel)",
   "language": "python",
   "name": "python3"
  },
  "language_info": {
   "codemirror_mode": {
    "name": "ipython",
    "version": 3
   },
   "file_extension": ".py",
   "mimetype": "text/x-python",
   "name": "python",
   "nbconvert_exporter": "python",
   "pygments_lexer": "ipython3",
   "version": "3.13.5"
  },
  "toc": {
   "base_numbering": 1,
   "nav_menu": {},
   "number_sections": true,
   "sideBar": true,
   "skip_h1_title": false,
   "title_cell": "Table of Contents",
   "title_sidebar": "Contents",
   "toc_cell": false,
   "toc_position": {},
   "toc_section_display": true,
   "toc_window_display": false
  },
  "vscode": {
   "interpreter": {
    "hash": "31f2aee4e71d21fbe5cf8b01ff0e069b9275f58929596ceb00d14d90e3e16cd6"
   }
  }
 },
 "nbformat": 4,
 "nbformat_minor": 5
}
