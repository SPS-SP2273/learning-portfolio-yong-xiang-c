{
 "cells": [
  {
   "attachments": {},
   "cell_type": "markdown",
   "id": "123456",
   "metadata": {},
   "source": [
    "<div style=\"text-align:left;font-size:2em\"><span style=\"font-weight:bolder;font-size:1.25em\">SP2273 | Learning Portfolio</span><br><br><span style=\"font-weight:bold;color:darkred\">Loops (Good) Exercises</span></div>"
   ]
  },
  {
   "cell_type": "markdown",
   "id": "9308a5aa",
   "metadata": {},
   "source": [
    "# Exercise 1 (Make me an odd list) #"
   ]
  },
  {
   "cell_type": "code",
   "execution_count": null,
   "id": "0c5c2a4b",
   "metadata": {},
   "outputs": [],
   "source": []
  },
  {
   "cell_type": "markdown",
   "id": "2d720a48",
   "metadata": {},
   "source": [
    "# Exercise 2 (Make me another odd list) #"
   ]
  },
  {
   "cell_type": "code",
   "execution_count": null,
   "id": "6041e36e",
   "metadata": {},
   "outputs": [],
   "source": []
  },
  {
   "cell_type": "markdown",
   "id": "e269302b",
   "metadata": {},
   "source": [
    "# Exercise 3 (Time me!) #"
   ]
  },
  {
   "cell_type": "markdown",
   "id": "af25d4e3",
   "metadata": {},
   "source": []
  },
  {
   "cell_type": "code",
   "execution_count": null,
   "id": "271595c3",
   "metadata": {},
   "outputs": [],
   "source": []
  },
  {
   "cell_type": "markdown",
   "id": "31719023",
   "metadata": {},
   "source": [
    "# Exercise 4 (A problem of decay) #"
   ]
  },
  {
   "cell_type": "code",
   "execution_count": 8,
   "id": "7e67ed5a",
   "metadata": {},
   "outputs": [],
   "source": [
    "sample = 100\n",
    "\n",
    "while sample < 50:\n",
    "    print(sample)\n",
    "    sample *= -0.05"
   ]
  },
  {
   "cell_type": "markdown",
   "id": "678b101e",
   "metadata": {},
   "source": [
    "# Exercise 5 (Changes in CO<sub>2</sub>) #"
   ]
  },
  {
   "cell_type": "code",
   "execution_count": 2,
   "id": "f1de0b72",
   "metadata": {},
   "outputs": [],
   "source": [
    "co2_data = [                                            # (year, CO2_level)\n",
    "    (2000, 369.55), (2001, 371.14), (2002, 373.28), \n",
    "    (2003, 375.80), (2004, 377.52), (2005, 379.80), \n",
    "    (2006, 381.90), (2007, 383.79), (2008, 385.60), \n",
    "    (2009, 387.43), (2010, 389.90), (2011, 391.65), \n",
    "    (2012, 393.85), (2013, 396.52), (2014, 398.65),\n",
    "    (2015, 400.83), (2016, 404.24), (2017, 406.55), \n",
    "    (2018, 408.52), (2019, 411.44), (2020, 414.24)\n",
    "]"
   ]
  }
 ],
 "metadata": {
  "kernelspec": {
   "display_name": "base",
   "language": "python",
   "name": "python3"
  },
  "language_info": {
   "codemirror_mode": {
    "name": "ipython",
    "version": 3
   },
   "file_extension": ".py",
   "mimetype": "text/x-python",
   "name": "python",
   "nbconvert_exporter": "python",
   "pygments_lexer": "ipython3",
   "version": "3.13.5"
  },
  "toc": {
   "base_numbering": 1,
   "nav_menu": {},
   "number_sections": true,
   "sideBar": true,
   "skip_h1_title": false,
   "title_cell": "Table of Contents",
   "title_sidebar": "Contents",
   "toc_cell": false,
   "toc_position": {},
   "toc_section_display": true,
   "toc_window_display": false
  }
 },
 "nbformat": 4,
 "nbformat_minor": 5
}
