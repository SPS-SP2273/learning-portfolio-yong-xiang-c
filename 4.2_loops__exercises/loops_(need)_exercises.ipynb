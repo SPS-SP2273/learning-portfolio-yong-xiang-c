{
 "cells": [
  {
   "attachments": {},
   "cell_type": "markdown",
   "id": "123456",
   "metadata": {},
   "source": [
    "<div style=\"text-align:left;font-size:2em\"><span style=\"font-weight:bolder;font-size:1.25em\">SP2273 | Learning Portfolio</span><br><br><span style=\"font-weight:bold;color:darkred\">Loops (Need) Exercises</span></div>"
   ]
  },
  {
   "cell_type": "markdown",
   "id": "2e23f26d",
   "metadata": {},
   "source": [
    "# Exercise 1 (Celsius to Fahrenheit) #"
   ]
  },
  {
   "cell_type": "code",
   "execution_count": 1,
   "id": "1a08dd62",
   "metadata": {},
   "outputs": [],
   "source": [
    "temperatures_celsius = [\n",
    "    0, 5, 10, 15, 20, 25,\n",
    "    30, 35, 40, 45, 50\n",
    "]"
   ]
  },
  {
   "cell_type": "code",
   "execution_count": 8,
   "id": "14fcbee5",
   "metadata": {},
   "outputs": [
    {
     "name": "stdout",
     "output_type": "stream",
     "text": [
      "0, 32.0\n",
      "5, 41.0\n",
      "10, 50.0\n",
      "15, 59.0\n",
      "20, 68.0\n",
      "25, 77.0\n",
      "30, 86.0\n",
      "35, 95.0\n",
      "40, 104.0\n",
      "45, 113.0\n",
      "50, 122.0\n"
     ]
    }
   ],
   "source": [
    "for celsius in temperatures_celsius:\n",
    "    temperatures_fahrenheit = celsius * 9/5 + 32\n",
    "    print(f\"{celsius}, {temperatures_fahrenheit}\")"
   ]
  },
  {
   "cell_type": "markdown",
   "id": "9e5aff7c",
   "metadata": {},
   "source": [
    "# Exercise 2 (Multiplication Table) #"
   ]
  },
  {
   "cell_type": "code",
   "execution_count": 2,
   "id": "a4fa1ffd",
   "metadata": {},
   "outputs": [
    {
     "name": "stdout",
     "output_type": "stream",
     "text": [
      "A1\tA2\tA3\t\n",
      "\n",
      "B1\tB2\tB3\t\n",
      "\n",
      "C1\tC2\tC3\t\n",
      "\n"
     ]
    }
   ],
   "source": [
    "for letter in ['A', 'B', 'C']:\n",
    "    for number in [1, 2, 3]:\n",
    "        print(f'{letter}{number}', end='\\t')\n",
    "    print('\\n')"
   ]
  },
  {
   "cell_type": "code",
   "execution_count": 30,
   "id": "e7c20001",
   "metadata": {},
   "outputs": [
    {
     "name": "stdout",
     "output_type": "stream",
     "text": [
      "1:\t1\t2\t3\t4\t5\t\n",
      "\n",
      "2:\t2\t4\t6\t8\t10\t\n",
      "\n",
      "3:\t3\t6\t9\t12\t15\t\n",
      "\n",
      "4:\t4\t8\t12\t16\t20\t\n",
      "\n",
      "5:\t5\t10\t15\t20\t25\t\n",
      "\n"
     ]
    }
   ],
   "source": [
    "for base_number in [1, 2, 3, 4, 5]:\n",
    "    print(f'{base_number}:', end='\\t')\n",
    "    for multiple in [1, 2, 3, 4, 5]:\n",
    "        print(f'{base_number * multiple}', end='\\t')\n",
    "    print('\\n')"
   ]
  },
  {
   "cell_type": "markdown",
   "id": "14830580",
   "metadata": {},
   "source": [
    "# Exercise 3 (Simulating a Coin Flip Experiment) #"
   ]
  },
  {
   "cell_type": "code",
   "execution_count": 31,
   "id": "755c31af",
   "metadata": {},
   "outputs": [],
   "source": [
    "import numpy as np"
   ]
  },
  {
   "cell_type": "code",
   "execution_count": 32,
   "id": "f9a887e1",
   "metadata": {},
   "outputs": [
    {
     "data": {
      "text/plain": [
       "array([0.57197058, 0.42368388, 0.36664637, 0.83056486, 0.06042755,\n",
       "       0.57194621, 0.44294944, 0.62669237, 0.27099064, 0.95327831])"
      ]
     },
     "execution_count": 32,
     "metadata": {},
     "output_type": "execute_result"
    }
   ],
   "source": [
    "np.random.rand(10)"
   ]
  },
  {
   "cell_type": "code",
   "execution_count": 61,
   "id": "23d1a3fe",
   "metadata": {},
   "outputs": [
    {
     "name": "stdout",
     "output_type": "stream",
     "text": [
      "Experiment 1: No. of heads = 5\n",
      "Experiment 2: No. of heads = 7\n",
      "Experiment 3: No. of heads = 7\n",
      "Experiment 4: No. of heads = 6\n",
      "Experiment 5: No. of heads = 6\n",
      "Experiment 6: No. of heads = 5\n",
      "Experiment 7: No. of heads = 4\n",
      "Experiment 8: No. of heads = 4\n",
      "Experiment 9: No. of heads = 3\n",
      "Experiment 10: No. of heads = 4\n"
     ]
    }
   ],
   "source": [
    "expt_no = [1, 2, 3, 4, 5, 6, 7, 8, 9, 10]\n",
    "\n",
    "for expt in expt_no:\n",
    "    np_expt_result = np.array(np.random.rand(10))\n",
    "    print(f'Experiment {expt}: No. of heads = {sum(np_expt_result > 0.5)}')"
   ]
  }
 ],
 "metadata": {
  "kernelspec": {
   "display_name": "base",
   "language": "python",
   "name": "python3"
  },
  "language_info": {
   "codemirror_mode": {
    "name": "ipython",
    "version": 3
   },
   "file_extension": ".py",
   "mimetype": "text/x-python",
   "name": "python",
   "nbconvert_exporter": "python",
   "pygments_lexer": "ipython3",
   "version": "3.13.5"
  },
  "toc": {
   "base_numbering": 1,
   "nav_menu": {},
   "number_sections": true,
   "sideBar": true,
   "skip_h1_title": false,
   "title_cell": "Table of Contents",
   "title_sidebar": "Contents",
   "toc_cell": false,
   "toc_position": {},
   "toc_section_display": true,
   "toc_window_display": false
  }
 },
 "nbformat": 4,
 "nbformat_minor": 5
}
