{
 "cells": [
  {
   "attachments": {},
   "cell_type": "markdown",
   "id": "123456",
   "metadata": {},
   "source": [
    "<div style=\"text-align:left;font-size:2em\"><span style=\"font-weight:bolder;font-size:1.25em\">SP2273 | Learning Portfolio</span><br><br><span style=\"font-weight:bold;color:darkred\">Files, Folders & OS (Need) Exercises</span></div>"
   ]
  },
  {
   "cell_type": "markdown",
   "id": "e5714d6b",
   "metadata": {},
   "source": [
    "# Exercise 1 (Tidying a collaboration) #"
   ]
  },
  {
   "cell_type": "code",
   "execution_count": 1,
   "id": "2677cc67",
   "metadata": {},
   "outputs": [],
   "source": [
    "import os\n",
    "import glob\n",
    "import shutil"
   ]
  },
  {
   "cell_type": "markdown",
   "id": "fdd6b22b",
   "metadata": {},
   "source": [
    "## Task 1 (Converting filename)"
   ]
  },
  {
   "cell_type": "code",
   "execution_count": null,
   "id": "184a13d4",
   "metadata": {},
   "outputs": [
    {
     "name": "stdout",
     "output_type": "stream",
     "text": [
      "c:\\Users\\jean\\OneDrive\\Documents\\GitHub\\learning-portfolio-yong-xiang-c\\6.2_files,_folders_&_os__exercises\\oct-08_singapore.txt\n"
     ]
    }
   ],
   "source": [
    "path_oct = os.path.abspath( 'oct-08_singapore.txt' )\n",
    "print(path_oct)"
   ]
  },
  {
   "cell_type": "code",
   "execution_count": 21,
   "id": "4897b1d2",
   "metadata": {},
   "outputs": [
    {
     "ename": "FileNotFoundError",
     "evalue": "[WinError 3] The system cannot find the path specified: 'c:\\\\Users\\\\jean\\\\OneDrive\\\\Documents\\\\GitHub\\\\learning-portfolio-yong-xiang-c\\\\6.2_files,_folders_&_os__exercises\\\\oct-08_singapore.txt'",
     "output_type": "error",
     "traceback": [
      "\u001b[31m---------------------------------------------------------------------------\u001b[39m",
      "\u001b[31mFileNotFoundError\u001b[39m                         Traceback (most recent call last)",
      "\u001b[36mCell\u001b[39m\u001b[36m \u001b[39m\u001b[32mIn[21]\u001b[39m\u001b[32m, line 8\u001b[39m\n\u001b[32m      1\u001b[39m months_to_no = {\n\u001b[32m      2\u001b[39m \u001b[33m'\u001b[39m\u001b[33mjan\u001b[39m\u001b[33m'\u001b[39m: \u001b[33m'\u001b[39m\u001b[33m01\u001b[39m\u001b[33m'\u001b[39m, \u001b[33m'\u001b[39m\u001b[33mfeb\u001b[39m\u001b[33m'\u001b[39m: \u001b[33m'\u001b[39m\u001b[33m02\u001b[39m\u001b[33m'\u001b[39m, \u001b[33m'\u001b[39m\u001b[33mmar\u001b[39m\u001b[33m'\u001b[39m: \u001b[33m'\u001b[39m\u001b[33m03\u001b[39m\u001b[33m'\u001b[39m,\n\u001b[32m      3\u001b[39m \u001b[33m'\u001b[39m\u001b[33mapr\u001b[39m\u001b[33m'\u001b[39m: \u001b[33m'\u001b[39m\u001b[33m04\u001b[39m\u001b[33m'\u001b[39m, \u001b[33m'\u001b[39m\u001b[33mmay\u001b[39m\u001b[33m'\u001b[39m: \u001b[33m'\u001b[39m\u001b[33m05\u001b[39m\u001b[33m'\u001b[39m, \u001b[33m'\u001b[39m\u001b[33mjun\u001b[39m\u001b[33m'\u001b[39m: \u001b[33m'\u001b[39m\u001b[33m06\u001b[39m\u001b[33m'\u001b[39m,\n\u001b[32m      4\u001b[39m \u001b[33m'\u001b[39m\u001b[33mjul\u001b[39m\u001b[33m'\u001b[39m: \u001b[33m'\u001b[39m\u001b[33m07\u001b[39m\u001b[33m'\u001b[39m, \u001b[33m'\u001b[39m\u001b[33maug\u001b[39m\u001b[33m'\u001b[39m: \u001b[33m'\u001b[39m\u001b[33m08\u001b[39m\u001b[33m'\u001b[39m, \u001b[33m'\u001b[39m\u001b[33msep\u001b[39m\u001b[33m'\u001b[39m: \u001b[33m'\u001b[39m\u001b[33m09\u001b[39m\u001b[33m'\u001b[39m,\n\u001b[32m      5\u001b[39m \u001b[33m'\u001b[39m\u001b[33moct\u001b[39m\u001b[33m'\u001b[39m: \u001b[33m'\u001b[39m\u001b[33m10\u001b[39m\u001b[33m'\u001b[39m, \u001b[33m'\u001b[39m\u001b[33mnov\u001b[39m\u001b[33m'\u001b[39m: \u001b[33m'\u001b[39m\u001b[33m11\u001b[39m\u001b[33m'\u001b[39m, \u001b[33m'\u001b[39m\u001b[33mdec\u001b[39m\u001b[33m'\u001b[39m: \u001b[33m'\u001b[39m\u001b[33m12\u001b[39m\u001b[33m'\u001b[39m\n\u001b[32m      6\u001b[39m }\n\u001b[32m----> \u001b[39m\u001b[32m8\u001b[39m \u001b[38;5;28;01mfor\u001b[39;00m old_file \u001b[38;5;129;01min\u001b[39;00m \u001b[43mos\u001b[49m\u001b[43m.\u001b[49m\u001b[43mlistdir\u001b[49m\u001b[43m(\u001b[49m\u001b[43mpath_oct\u001b[49m\u001b[43m)\u001b[49m:\n\u001b[32m      9\u001b[39m     old_filepath = os.path.join(path_oct, old_file)\n\u001b[32m     11\u001b[39m     new_file = old_file\n",
      "\u001b[31mFileNotFoundError\u001b[39m: [WinError 3] The system cannot find the path specified: 'c:\\\\Users\\\\jean\\\\OneDrive\\\\Documents\\\\GitHub\\\\learning-portfolio-yong-xiang-c\\\\6.2_files,_folders_&_os__exercises\\\\oct-08_singapore.txt'"
     ]
    }
   ],
   "source": [
    "months_to_no = {\n",
    "'jan': '01', 'feb': '02', 'mar': '03',\n",
    "'apr': '04', 'may': '05', 'jun': '06',\n",
    "'jul': '07', 'aug': '08', 'sep': '09',\n",
    "'oct': '10', 'nov': '11', 'dec': '12'\n",
    "}\n",
    "\n",
    "for old_file in os.listdir(path_oct):\n",
    "    old_filepath = os.path.join(path_oct, old_file)\n",
    "\n",
    "    new_file = old_file\n",
    "    for month, no in months_to_no.items():\n",
    "        new_file = new_file.replace(month, no)\n",
    "\n",
    "        if new_file != old_file:\n",
    "            new_file = os.path.join(path_oct, new_file)\n",
    "            os.rename(old_file, new_file)\n",
    "            print(f\"Renamed {old_file} successfully to {new_file}\")"
   ]
  },
  {
   "cell_type": "markdown",
   "id": "2fbe5cce",
   "metadata": {},
   "source": [
    "## Task 2 (Incorporating code into function)"
   ]
  },
  {
   "cell_type": "code",
   "execution_count": null,
   "id": "baf10e4e",
   "metadata": {},
   "outputs": [],
   "source": []
  },
  {
   "cell_type": "markdown",
   "id": "83e7ab9c",
   "metadata": {},
   "source": [
    "## Task 3 (for loop)"
   ]
  },
  {
   "cell_type": "code",
   "execution_count": null,
   "id": "6d39e02b",
   "metadata": {},
   "outputs": [],
   "source": [
    "['oct-08_singapore.txt', 'jul-10_cairo.txt', 'may-15_dhaka.txt',\n",
    "'may-13_cairo.txt', 'oct-21_cairo.txt', 'jan-10_singapore.txt',\n",
    "'jun-20_tokyo.txt', 'aug-06_jakarta.txt', 'dec-21_karachi.txt',\n",
    "'jan-01_tokyo.txt']"
   ]
  },
  {
   "cell_type": "markdown",
   "id": "c8f9f2dd",
   "metadata": {},
   "source": [
    "## Task 4 (Renaming .txt files using glob)"
   ]
  },
  {
   "cell_type": "code",
   "execution_count": null,
   "id": "bc090f08",
   "metadata": {},
   "outputs": [],
   "source": []
  },
  {
   "cell_type": "markdown",
   "id": "ddc41d7f",
   "metadata": {},
   "source": [
    "## Task 5 (for loop to create folder)"
   ]
  },
  {
   "cell_type": "code",
   "execution_count": null,
   "id": "81b101c0",
   "metadata": {},
   "outputs": [],
   "source": [
    "['Cairo', 'Dhaka', 'Jakarta', 'Karachi', 'Manila',\n",
    "'Melbourne', 'Osaka', 'Shanghai', 'Singapore', 'Tokyo']"
   ]
  },
  {
   "cell_type": "markdown",
   "id": "fe2ce733",
   "metadata": {},
   "source": [
    "## Task 6 (List and copy files)"
   ]
  },
  {
   "cell_type": "code",
   "execution_count": null,
   "id": "7906d49f",
   "metadata": {},
   "outputs": [],
   "source": []
  },
  {
   "cell_type": "markdown",
   "id": "65e572e7",
   "metadata": {},
   "source": [
    "## Task 7 (Move files to corresponding cities)"
   ]
  },
  {
   "cell_type": "code",
   "execution_count": null,
   "id": "d69a2be9",
   "metadata": {},
   "outputs": [],
   "source": []
  }
 ],
 "metadata": {
  "kernelspec": {
   "display_name": "base",
   "language": "python",
   "name": "python3"
  },
  "language_info": {
   "codemirror_mode": {
    "name": "ipython",
    "version": 3
   },
   "file_extension": ".py",
   "mimetype": "text/x-python",
   "name": "python",
   "nbconvert_exporter": "python",
   "pygments_lexer": "ipython3",
   "version": "3.13.5"
  },
  "toc": {
   "base_numbering": 1,
   "nav_menu": {},
   "number_sections": true,
   "sideBar": true,
   "skip_h1_title": false,
   "title_cell": "Table of Contents",
   "title_sidebar": "Contents",
   "toc_cell": false,
   "toc_position": {},
   "toc_section_display": true,
   "toc_window_display": false
  }
 },
 "nbformat": 4,
 "nbformat_minor": 5
}
