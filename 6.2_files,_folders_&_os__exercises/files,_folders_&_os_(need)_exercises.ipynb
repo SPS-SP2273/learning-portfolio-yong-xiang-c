{
 "cells": [
  {
   "attachments": {},
   "cell_type": "markdown",
   "id": "123456",
   "metadata": {},
   "source": [
    "<div style=\"text-align:left;font-size:2em\"><span style=\"font-weight:bolder;font-size:1.25em\">SP2273 | Learning Portfolio</span><br><br><span style=\"font-weight:bold;color:darkred\">Files, Folders & OS (Need) Exercises</span></div>"
   ]
  },
  {
   "cell_type": "markdown",
   "id": "e5714d6b",
   "metadata": {},
   "source": [
    "# Exercise 1 (Tidying a collaboration) #"
   ]
  },
  {
   "cell_type": "markdown",
   "id": "fdd6b22b",
   "metadata": {},
   "source": [
    "## Task 1 (Converting filename)"
   ]
  },
  {
   "cell_type": "code",
   "execution_count": null,
   "id": "4897b1d2",
   "metadata": {},
   "outputs": [],
   "source": []
  },
  {
   "cell_type": "markdown",
   "id": "2fbe5cce",
   "metadata": {},
   "source": [
    "## Task 2 (Incorporating code into function)"
   ]
  },
  {
   "cell_type": "code",
   "execution_count": null,
   "id": "baf10e4e",
   "metadata": {},
   "outputs": [],
   "source": []
  },
  {
   "cell_type": "markdown",
   "id": "83e7ab9c",
   "metadata": {},
   "source": [
    "## Task 3 (for loop)"
   ]
  },
  {
   "cell_type": "code",
   "execution_count": null,
   "id": "6d39e02b",
   "metadata": {},
   "outputs": [],
   "source": []
  },
  {
   "cell_type": "markdown",
   "id": "c8f9f2dd",
   "metadata": {},
   "source": [
    "## Task 4 (Renaming .txt files using glob)"
   ]
  },
  {
   "cell_type": "code",
   "execution_count": null,
   "id": "bc090f08",
   "metadata": {},
   "outputs": [],
   "source": []
  },
  {
   "cell_type": "markdown",
   "id": "ddc41d7f",
   "metadata": {},
   "source": [
    "## Task 5 (for loop to create folder)"
   ]
  },
  {
   "cell_type": "code",
   "execution_count": null,
   "id": "81b101c0",
   "metadata": {},
   "outputs": [],
   "source": []
  },
  {
   "cell_type": "markdown",
   "id": "fe2ce733",
   "metadata": {},
   "source": [
    "## Task 6 (List and copy files)"
   ]
  },
  {
   "cell_type": "code",
   "execution_count": null,
   "id": "7906d49f",
   "metadata": {},
   "outputs": [],
   "source": []
  },
  {
   "cell_type": "markdown",
   "id": "65e572e7",
   "metadata": {},
   "source": [
    "## Task 7 (Move files to corresponding cities)"
   ]
  },
  {
   "cell_type": "code",
   "execution_count": null,
   "id": "d69a2be9",
   "metadata": {},
   "outputs": [],
   "source": []
  }
 ],
 "metadata": {
  "kernelspec": {
   "display_name": "base",
   "language": "python",
   "name": "python3"
  },
  "language_info": {
   "codemirror_mode": {
    "name": "ipython",
    "version": 3
   },
   "file_extension": ".py",
   "mimetype": "text/x-python",
   "name": "python",
   "nbconvert_exporter": "python",
   "pygments_lexer": "ipython3",
   "version": "3.13.5"
  },
  "toc": {
   "base_numbering": 1,
   "nav_menu": {},
   "number_sections": true,
   "sideBar": true,
   "skip_h1_title": false,
   "title_cell": "Table of Contents",
   "title_sidebar": "Contents",
   "toc_cell": false,
   "toc_position": {},
   "toc_section_display": true,
   "toc_window_display": false
  }
 },
 "nbformat": 4,
 "nbformat_minor": 5
}
