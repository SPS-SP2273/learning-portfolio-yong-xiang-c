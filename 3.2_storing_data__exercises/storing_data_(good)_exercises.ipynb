{
 "cells": [
  {
   "attachments": {},
   "cell_type": "markdown",
   "id": "123456",
   "metadata": {},
   "source": [
    "<div style=\"text-align:left;font-size:2em\"><span style=\"font-weight:bolder;font-size:1.25em\">SP2273 | Learning Portfolio</span><br><br><span style=\"font-weight:bold;color:darkred\">Storing Data (Good) Exercises</span></div>"
   ]
  },
  {
   "cell_type": "markdown",
   "id": "4ca8f2de",
   "metadata": {},
   "source": [
    "# Exercise 1 (Total recall) #"
   ]
  },
  {
   "cell_type": "markdown",
   "id": "ec06bf13",
   "metadata": {},
   "source": [
    "|  **Term**  |                                                       **Brief Description**                                                      |\n",
    "|:----------:|:--------------------------------------------------------------------------------------------------------------------------------:|\n",
    "| Subsetting | To select data from a list / array                                                                                               |\n",
    "|  Indexing  | To select only one element from a list / array                                                                                   |\n",
    "|   Slicing  | To select a range of elements from a list / array                                                                                |\n",
    "|   Masking  | To select a range of elements that fulfil a criterion from a list / array; the rest of the elements outside the criterion would have been masked |"
   ]
  },
  {
   "cell_type": "markdown",
   "id": "49027bcc",
   "metadata": {},
   "source": [
    "# Exercise 2 (Show me the 'odd' letters) #"
   ]
  },
  {
   "cell_type": "code",
   "execution_count": 2,
   "id": "4848b2f2",
   "metadata": {},
   "outputs": [],
   "source": [
    "import numpy as np"
   ]
  },
  {
   "cell_type": "code",
   "execution_count": 3,
   "id": "5a5a17d9",
   "metadata": {},
   "outputs": [],
   "source": [
    "np_array_2d = np.array([[1, \"A\"], [3, \"C\"], [2, \"B\"], [4, \"D\"],\n",
    "                        [5, \"E\"], [7, \"G\"], [6, \"F\"], [8, \"H\"],\n",
    "                        [10, \"J\"], [9, \"I\"]])"
   ]
  },
  {
   "cell_type": "markdown",
   "id": "744881ac",
   "metadata": {},
   "source": [
    "# Exercise 3 #"
   ]
  },
  {
   "cell_type": "code",
   "execution_count": null,
   "id": "a3b1d0c7",
   "metadata": {},
   "outputs": [],
   "source": [
    "[[66, 50, 57, -1, -1],\n",
    " [92, -1, 88, -1, -1],\n",
    " [75, -1, -1, 76, -1],\n",
    " [-1, 51, 87, -1, -1],\n",
    " [71, -1, 67, -1, 69]]"
   ]
  }
 ],
 "metadata": {
  "kernelspec": {
   "display_name": "base",
   "language": "python",
   "name": "python3"
  },
  "language_info": {
   "codemirror_mode": {
    "name": "ipython",
    "version": 3
   },
   "file_extension": ".py",
   "mimetype": "text/x-python",
   "name": "python",
   "nbconvert_exporter": "python",
   "pygments_lexer": "ipython3",
   "version": "3.13.5"
  },
  "toc": {
   "base_numbering": 1,
   "nav_menu": {},
   "number_sections": true,
   "sideBar": true,
   "skip_h1_title": false,
   "title_cell": "Table of Contents",
   "title_sidebar": "Contents",
   "toc_cell": false,
   "toc_position": {},
   "toc_section_display": true,
   "toc_window_display": false
  }
 },
 "nbformat": 4,
 "nbformat_minor": 5
}
