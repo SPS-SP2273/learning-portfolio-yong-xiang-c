{
 "cells": [
  {
   "attachments": {},
   "cell_type": "markdown",
   "id": "123456",
   "metadata": {},
   "source": [
    "<div style=\"text-align:left;font-size:2em\"><span style=\"font-weight:bolder;font-size:1.25em\">SP2273 | Learning Portfolio</span><br><br><span style=\"font-weight:bold;color:darkred\">Storing Data (Good) Exercises</span></div>"
   ]
  },
  {
   "cell_type": "markdown",
   "id": "4ca8f2de",
   "metadata": {},
   "source": [
    "# Exercise 1 (Total recall) #"
   ]
  },
  {
   "cell_type": "markdown",
   "id": "ec06bf13",
   "metadata": {},
   "source": [
    "|  **Term**  |                                                       **Brief Description**                                                      |\n",
    "|:----------:|:--------------------------------------------------------------------------------------------------------------------------------:|\n",
    "| Subsetting | To select data from a list / array                                                                                               |\n",
    "|  Indexing  | To select only one element from a list / array                                                                                   |\n",
    "|   Slicing  | To select a range of elements from a list / array                                                                                |\n",
    "|   Masking  | To select a range of elements that fulfil a set criterion from a list / array |"
   ]
  },
  {
   "cell_type": "markdown",
   "id": "49027bcc",
   "metadata": {},
   "source": [
    "# Exercise 2 (Show me the 'odd' letters) #"
   ]
  },
  {
   "cell_type": "code",
   "execution_count": 1,
   "id": "4848b2f2",
   "metadata": {},
   "outputs": [],
   "source": [
    "import numpy as np"
   ]
  },
  {
   "cell_type": "code",
   "execution_count": 2,
   "id": "5a5a17d9",
   "metadata": {},
   "outputs": [
    {
     "data": {
      "text/plain": [
       "array(['1', '3', '2', '4', '5', '7', '6', '8', '10', '9'], dtype='<U21')"
      ]
     },
     "execution_count": 2,
     "metadata": {},
     "output_type": "execute_result"
    }
   ],
   "source": [
    "np_array_2d = np.array([[1, \"A\"], [3, \"C\"], [2, \"B\"], [4, \"D\"],\n",
    "                        [5, \"E\"], [7, \"G\"], [6, \"F\"], [8, \"H\"],\n",
    "                        [10, \"J\"], [9, \"I\"]])\n",
    "\n",
    "np_array_2d[:10,0]"
   ]
  },
  {
   "cell_type": "code",
   "execution_count": 3,
   "id": "05dd1713",
   "metadata": {},
   "outputs": [],
   "source": [
    "np_number_array = np_array_2d[:10,0]\n",
    "np_array_int = np_number_array.astype(int)"
   ]
  },
  {
   "cell_type": "code",
   "execution_count": 10,
   "id": "41ed7738",
   "metadata": {},
   "outputs": [
    {
     "data": {
      "text/plain": [
       "array([1, 1, 0, 0, 1, 1, 0, 0, 0, 1])"
      ]
     },
     "execution_count": 10,
     "metadata": {},
     "output_type": "execute_result"
    }
   ],
   "source": [
    "np_array_int%2"
   ]
  },
  {
   "cell_type": "code",
   "execution_count": 4,
   "id": "316c5c39",
   "metadata": {},
   "outputs": [
    {
     "data": {
      "text/plain": [
       "array([ True,  True, False, False,  True,  True, False, False, False,\n",
       "        True])"
      ]
     },
     "execution_count": 4,
     "metadata": {},
     "output_type": "execute_result"
    }
   ],
   "source": [
    "np_array_odd = np_array_int%2\n",
    "my_mask = np_array_odd == 1\n",
    "my_mask"
   ]
  },
  {
   "cell_type": "code",
   "execution_count": 5,
   "id": "14318ab8",
   "metadata": {},
   "outputs": [
    {
     "data": {
      "text/plain": [
       "array(['A', 'C', 'E', 'G', 'I'], dtype='<U21')"
      ]
     },
     "execution_count": 5,
     "metadata": {},
     "output_type": "execute_result"
    }
   ],
   "source": [
    "np_array_2d[my_mask, 1]"
   ]
  },
  {
   "cell_type": "markdown",
   "id": "744881ac",
   "metadata": {},
   "source": [
    "# Exercise 3 #"
   ]
  },
  {
   "cell_type": "code",
   "execution_count": 1,
   "id": "4bab197b",
   "metadata": {},
   "outputs": [],
   "source": [
    "import numpy as np"
   ]
  },
  {
   "cell_type": "code",
   "execution_count": 8,
   "id": "a3b1d0c7",
   "metadata": {},
   "outputs": [],
   "source": [
    "np_array = np.array([[66, 50, 57, -1, -1],\n",
    "                    [92, -1, 88, -1, -1],\n",
    "                    [75, -1, -1, 76, -1],\n",
    "                    [-1, 51, 87, -1, -1],\n",
    "                    [71, -1, 67, -1, 69]])"
   ]
  },
  {
   "cell_type": "code",
   "execution_count": 9,
   "id": "bb4ed8f0",
   "metadata": {},
   "outputs": [
    {
     "data": {
      "text/plain": [
       "array([[ 1,  0,  1, -1, -1],\n",
       "       [ 1, -1,  1, -1, -1],\n",
       "       [ 1, -1, -1,  1, -1],\n",
       "       [-1,  1,  1, -1, -1],\n",
       "       [ 1, -1,  1, -1,  1]])"
      ]
     },
     "execution_count": 9,
     "metadata": {},
     "output_type": "execute_result"
    }
   ],
   "source": [
    "greater_mask = np_array > 50\n",
    "equal_mask = np_array == 50\n",
    "lesser_mask = np_array < 50\n",
    "\n",
    "np_array[greater_mask] = 1\n",
    "np_array[equal_mask] = 0\n",
    "np_array[lesser_mask] = -1\n",
    "\n",
    "np_array"
   ]
  }
 ],
 "metadata": {
  "kernelspec": {
   "display_name": "base",
   "language": "python",
   "name": "python3"
  },
  "language_info": {
   "codemirror_mode": {
    "name": "ipython",
    "version": 3
   },
   "file_extension": ".py",
   "mimetype": "text/x-python",
   "name": "python",
   "nbconvert_exporter": "python",
   "pygments_lexer": "ipython3",
   "version": "3.13.5"
  },
  "toc": {
   "base_numbering": 1,
   "nav_menu": {},
   "number_sections": true,
   "sideBar": true,
   "skip_h1_title": false,
   "title_cell": "Table of Contents",
   "title_sidebar": "Contents",
   "toc_cell": false,
   "toc_position": {},
   "toc_section_display": true,
   "toc_window_display": false
  }
 },
 "nbformat": 4,
 "nbformat_minor": 5
}
