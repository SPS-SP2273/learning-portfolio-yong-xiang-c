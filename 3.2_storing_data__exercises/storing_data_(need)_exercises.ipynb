{
 "cells": [
  {
   "attachments": {},
   "cell_type": "markdown",
   "id": "123456",
   "metadata": {},
   "source": [
    "<div style=\"text-align:left;font-size:2em\"><span style=\"font-weight:bolder;font-size:1.25em\">SP2273 | Learning Portfolio</span><br><br><span style=\"font-weight:bold;color:darkred\">Storing Data (Need) Exercises</span></div>"
   ]
  },
  {
   "cell_type": "markdown",
   "id": "3674e77f",
   "metadata": {},
   "source": [
    "# Exercise 1 (Total recall?) #"
   ]
  },
  {
   "cell_type": "markdown",
   "id": "b7875ca2",
   "metadata": {},
   "source": [
    "1. The two similarities between lists and arrays are (1) both are able to store data in an order, and (2) elements in both lists and arrays can be assessed through indexing.\n",
    "1. The two differences between lists and arrays are (1) lists are in python environment while arrays are in the numpy package, and (2) lists will not be able to get summary statistics such as sum (i.e. py_list.sum will not run) while arrays will be able to do so (i.e. np.sum will work).\n",
    "1. A dictionary is able to hold data paired with a key, it would be similar to storing 2 lists of data and associating each list's data with each other."
   ]
  },
  {
   "cell_type": "markdown",
   "id": "b74f8aa5",
   "metadata": {},
   "source": [
    "# Exercise 2 (Indexing) #"
   ]
  },
  {
   "cell_type": "code",
   "execution_count": 1,
   "id": "4fb9884a",
   "metadata": {},
   "outputs": [
    {
     "name": "stdout",
     "output_type": "stream",
     "text": [
      "a1\n",
      "c3\n",
      "e5\n",
      "g7\n",
      "i9\n"
     ]
    }
   ],
   "source": [
    "py_list = [\"a1\", \"b2\", \"c3\", \"d4\", \"e5\", \"f6\", \"g7\", \"h8\", \"i9\", \"j10\"]\n",
    "print(py_list[0])    # Prints 'a1'\n",
    "print(py_list[2])    # Prints 'c3'\n",
    "print(py_list[4])    # Prints 'e5'\n",
    "print(py_list[6])    # Prints 'g7'\n",
    "print(py_list[8])    # Prints 'i9'"
   ]
  },
  {
   "cell_type": "markdown",
   "id": "854b36de",
   "metadata": {},
   "source": [
    "# Exercise 3 (Index again) #"
   ]
  },
  {
   "cell_type": "code",
   "execution_count": 2,
   "id": "f662beb7",
   "metadata": {},
   "outputs": [
    {
     "name": "stdout",
     "output_type": "stream",
     "text": [
      "Boron\n",
      "Boron\n"
     ]
    }
   ],
   "source": [
    "elements = ['Hydrogen',\n",
    "            'Helium', 'Lithium',\n",
    "            'Beryllium', 'Boron', 'Carbon',\n",
    "            'Nitrogen', 'Oxygen',\n",
    "            'Fluorine',\n",
    "            'Neon']\n",
    "\n",
    "print(elements[4])\n",
    "print(elements[-6])"
   ]
  },
  {
   "cell_type": "markdown",
   "id": "8a1fbb04",
   "metadata": {},
   "source": [
    "# Exercise 4 (How many ones) #"
   ]
  },
  {
   "cell_type": "code",
   "execution_count": 3,
   "id": "820bb9ba",
   "metadata": {},
   "outputs": [],
   "source": [
    "import numpy as np"
   ]
  },
  {
   "cell_type": "code",
   "execution_count": 5,
   "id": "efdfb399",
   "metadata": {},
   "outputs": [
    {
     "data": {
      "text/plain": [
       "np.int64(9)"
      ]
     },
     "execution_count": 5,
     "metadata": {},
     "output_type": "execute_result"
    }
   ],
   "source": [
    "numbers=[45, 60, 1, 30, 96, 1, 96, 57, 16, 1,\n",
    "        99, 62, 86, 43, 42, 60, 59, 1, 1, 35,\n",
    "        83, 47, 34, 28, 68, 23, 22, 92, 1, 79,\n",
    "        1, 29, 94, 72, 46, 47, 1, 74, 32, 20,\n",
    "        8, 37, 35, 1, 89, 29, 86, 19, 43, 61]                  \n",
    "\n",
    "np_numbers = np.array(numbers)\n",
    "\n",
    "sum(np_numbers == 1)"
   ]
  },
  {
   "cell_type": "markdown",
   "id": "0826e671",
   "metadata": {},
   "source": [
    "There are 9 \"1\"s in the list."
   ]
  },
  {
   "cell_type": "markdown",
   "id": "8e065fd9",
   "metadata": {},
   "source": [
    "# Exercise 5 (A Matter of Statistics) #"
   ]
  },
  {
   "cell_type": "code",
   "execution_count": 5,
   "id": "c148ebbe",
   "metadata": {},
   "outputs": [],
   "source": [
    "import numpy as np"
   ]
  },
  {
   "cell_type": "code",
   "execution_count": 8,
   "id": "f3b974f9",
   "metadata": {},
   "outputs": [],
   "source": [
    "x_1 = [1, 4, 9, 16, 25, 36, 49, 64, 81, 100]\n",
    "x_2 = [1, 8, 27, 64, 125, 216, 343, 512, 729, 1000]\n",
    "\n",
    "np_x1 = np.array(x_1)\n",
    "np_x2 = np.array(x_2)"
   ]
  },
  {
   "cell_type": "code",
   "execution_count": 9,
   "id": "c8f7afe3",
   "metadata": {},
   "outputs": [
    {
     "data": {
      "text/plain": [
       "np.float64(38.5)"
      ]
     },
     "execution_count": 9,
     "metadata": {},
     "output_type": "execute_result"
    }
   ],
   "source": [
    "np.mean(np_x1)"
   ]
  },
  {
   "cell_type": "code",
   "execution_count": 10,
   "id": "d4f854e5",
   "metadata": {},
   "outputs": [
    {
     "data": {
      "text/plain": [
       "np.float64(302.5)"
      ]
     },
     "execution_count": 10,
     "metadata": {},
     "output_type": "execute_result"
    }
   ],
   "source": [
    "np.mean(np_x2)"
   ]
  },
  {
   "cell_type": "markdown",
   "id": "bbe70eb8",
   "metadata": {},
   "source": [
    "The mean of x<sub>1</sub> is 38.5, while the mean of x<sub>2</sub> is 302.5."
   ]
  },
  {
   "cell_type": "code",
   "execution_count": 11,
   "id": "f5cc9f00",
   "metadata": {},
   "outputs": [
    {
     "data": {
      "text/plain": [
       "np.float64(32.41990129534635)"
      ]
     },
     "execution_count": 11,
     "metadata": {},
     "output_type": "execute_result"
    }
   ],
   "source": [
    "np.std(np_x1)"
   ]
  },
  {
   "cell_type": "code",
   "execution_count": 13,
   "id": "c401b0a2",
   "metadata": {},
   "outputs": [
    {
     "data": {
      "text/plain": [
       "np.float64(326.0893282522444)"
      ]
     },
     "execution_count": 13,
     "metadata": {},
     "output_type": "execute_result"
    }
   ],
   "source": [
    "np.std(np_x2)"
   ]
  },
  {
   "cell_type": "markdown",
   "id": "08f5d91a",
   "metadata": {},
   "source": [
    "The standard deviation of x<sub>1</sub> to 3 d.p. is 32.420, while the standard deviation of x<sub>2</sub> to 3 d.p. is 326.089."
   ]
  },
  {
   "cell_type": "code",
   "execution_count": 14,
   "id": "c0fd8c3b",
   "metadata": {},
   "outputs": [
    {
     "data": {
      "text/plain": [
       "np.float64(0.9871796626270701)"
      ]
     },
     "execution_count": 14,
     "metadata": {},
     "output_type": "execute_result"
    }
   ],
   "source": [
    "((10 * np.sum(np_x1 * np_x2) - (np.sum(np_x1) * np.sum(np_x2)))) / np.sqrt((10 * np.sum(np_x1 ** 2) - (np.sum(np_x1) ** 2)) * (10 * np.sum(np_x2 ** 2) - (np.sum(np_x2) ** 2)))"
   ]
  },
  {
   "cell_type": "code",
   "execution_count": 24,
   "id": "c0f870f4",
   "metadata": {},
   "outputs": [
    {
     "data": {
      "text/plain": [
       "array([[1.        , 0.98717966],\n",
       "       [0.98717966, 1.        ]])"
      ]
     },
     "execution_count": 24,
     "metadata": {},
     "output_type": "execute_result"
    }
   ],
   "source": [
    "np.corrcoef(np_x1, np_x2)"
   ]
  },
  {
   "cell_type": "markdown",
   "id": "f2596726",
   "metadata": {},
   "source": [
    "Both codes gave the same result for the Pearson correlation coefficient _r_ of 0.98717966."
   ]
  }
 ],
 "metadata": {
  "kernelspec": {
   "display_name": "base",
   "language": "python",
   "name": "python3"
  },
  "language_info": {
   "codemirror_mode": {
    "name": "ipython",
    "version": 3
   },
   "file_extension": ".py",
   "mimetype": "text/x-python",
   "name": "python",
   "nbconvert_exporter": "python",
   "pygments_lexer": "ipython3",
   "version": "3.13.5"
  },
  "toc": {
   "base_numbering": 1,
   "nav_menu": {},
   "number_sections": true,
   "sideBar": true,
   "skip_h1_title": false,
   "title_cell": "Table of Contents",
   "title_sidebar": "Contents",
   "toc_cell": false,
   "toc_position": {},
   "toc_section_display": true,
   "toc_window_display": false
  }
 },
 "nbformat": 4,
 "nbformat_minor": 5
}
